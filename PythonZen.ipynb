{
 "cells": [
  {
   "cell_type": "markdown",
   "id": "74f2c379-4ae2-45a5-87d2-34a73d380798",
   "metadata": {},
   "source": [
    "# Zen of Python\n",
    "\n",
    "Although these examples seem trivial, I still need a little practice for the gotchas.\n",
    "\n",
    "Most is review, unfortunately interview processes are riddled with gotchas :( better to be prepared than not remembering something small"
   ]
  },
  {
   "cell_type": "code",
   "execution_count": 2,
   "id": "bba38bae-c12b-4324-bb7d-0d4a9aa248ab",
   "metadata": {},
   "outputs": [
    {
     "name": "stdout",
     "output_type": "stream",
     "text": [
      "Mathias Evans\n",
      "Nate Doe\n",
      "Hope Smith\n"
     ]
    }
   ],
   "source": [
    "firsts = [\"Mathias\", \"Nate\", \"Hope\"]\n",
    "lasts = [\"Evans\", \"Doe\", \"Smith\"]\n",
    "for i in range(len(firsts)):\n",
    "    print(f\"{firsts[i]} {lasts[i]}\")"
   ]
  },
  {
   "cell_type": "code",
   "execution_count": 3,
   "id": "f498d7ec-2882-43af-99b1-cabb9c5872b4",
   "metadata": {},
   "outputs": [
    {
     "name": "stdout",
     "output_type": "stream",
     "text": [
      "Mathias Evans\n",
      "Nate Doe\n",
      "Hope Smith\n"
     ]
    }
   ],
   "source": [
    "for first, last in zip(firsts, lasts):\n",
    "    print(f\"{first} {last}\")"
   ]
  },
  {
   "cell_type": "code",
   "execution_count": 4,
   "id": "7b82d495-6889-43eb-9d6a-443e12c25a65",
   "metadata": {},
   "outputs": [
    {
     "name": "stdout",
     "output_type": "stream",
     "text": [
      "('Mathias', 'Evans')\n",
      "('Nate', 'Doe')\n",
      "('Hope', 'Smith')\n"
     ]
    }
   ],
   "source": [
    "for z in zip(firsts, lasts):\n",
    "    print(z)"
   ]
  },
  {
   "cell_type": "code",
   "execution_count": 5,
   "id": "ea48fc42-3f6f-4553-a186-592fbff0a9a8",
   "metadata": {},
   "outputs": [
    {
     "name": "stdout",
     "output_type": "stream",
     "text": [
      "Mathias Evans\n",
      "Nate Doe\n",
      "Hope Smith\n"
     ]
    }
   ],
   "source": [
    "for z in zip(firsts, lasts):\n",
    "    first, last = z\n",
    "    print(f\"{first} {last}\")"
   ]
  },
  {
   "cell_type": "code",
   "execution_count": 6,
   "id": "f45dda0b-bc96-4887-ad78-b8ba0551b47a",
   "metadata": {},
   "outputs": [
    {
     "data": {
      "text/plain": [
       "<zip at 0x110293180>"
      ]
     },
     "execution_count": 6,
     "metadata": {},
     "output_type": "execute_result"
    }
   ],
   "source": [
    "z = zip(firsts, lasts)\n",
    "z"
   ]
  },
  {
   "cell_type": "code",
   "execution_count": 7,
   "id": "2be4c765-531b-47dc-8246-ee0fdad904fd",
   "metadata": {},
   "outputs": [
    {
     "data": {
      "text/plain": [
       "[('Mathias', 'Evans'), ('Nate', 'Doe'), ('Hope', 'Smith')]"
      ]
     },
     "execution_count": 7,
     "metadata": {},
     "output_type": "execute_result"
    }
   ],
   "source": [
    "list(z)"
   ]
  },
  {
   "cell_type": "code",
   "execution_count": 8,
   "id": "d7cf6721-fb6f-4d0f-8d0b-03e045d93aa5",
   "metadata": {},
   "outputs": [
    {
     "ename": "TypeError",
     "evalue": "object of type 'zip' has no len()",
     "output_type": "error",
     "traceback": [
      "\u001b[0;31m---------------------------------------------------------------------------\u001b[0m",
      "\u001b[0;31mTypeError\u001b[0m                                 Traceback (most recent call last)",
      "Cell \u001b[0;32mIn[8], line 1\u001b[0m\n\u001b[0;32m----> 1\u001b[0m \u001b[38;5;28;43mlen\u001b[39;49m\u001b[43m(\u001b[49m\u001b[43mz\u001b[49m\u001b[43m)\u001b[49m \u001b[38;5;66;03m# error zip is lazy\u001b[39;00m\n",
      "\u001b[0;31mTypeError\u001b[0m: object of type 'zip' has no len()"
     ]
    }
   ],
   "source": [
    "len(z) # error zip is lazy"
   ]
  },
  {
   "cell_type": "code",
   "execution_count": 9,
   "id": "d4548d9a-390b-4113-9146-c24a5fdd7c02",
   "metadata": {},
   "outputs": [
    {
     "name": "stdout",
     "output_type": "stream",
     "text": [
      "('Mathias', 'F.', 'Evans')\n",
      "('Nate', 'C.', 'Doe')\n",
      "('Hope', 'L.', 'Smith')\n"
     ]
    }
   ],
   "source": [
    "middles = [\"F.\", \"C.\", \"L.\"]\n",
    "for z in zip(firsts, middles, lasts):\n",
    "    print(z)"
   ]
  },
  {
   "cell_type": "code",
   "execution_count": 10,
   "id": "ff2c5fab-cf26-44a9-a3b8-04b646cbf6f0",
   "metadata": {},
   "outputs": [
    {
     "name": "stdout",
     "output_type": "stream",
     "text": [
      "('Dr.', 'Mathias', 'F.', 'Evans')\n",
      "('Mr.', 'Nate', 'C.', 'Doe')\n",
      "('Sir', 'Hope', 'L.', 'Smith')\n"
     ]
    }
   ],
   "source": [
    "prefixes = [\"Dr.\", \"Mr.\", \"Sir\"]\n",
    "for z in zip(prefixes, firsts, middles, lasts):\n",
    "    print(z)"
   ]
  },
  {
   "cell_type": "code",
   "execution_count": 11,
   "id": "7d29a8f5-e441-422d-af15-658de278efc5",
   "metadata": {},
   "outputs": [
    {
     "name": "stdout",
     "output_type": "stream",
     "text": [
      "('Mathias', 'Evans')\n",
      "('Nate', 'Doe')\n",
      "('Hope', 'Smith')\n"
     ]
    }
   ],
   "source": [
    "lasts = [\"Evans\", \"Doe\", \"Smith\", \"McKneel\"]\n",
    "for z in zip(firsts, lasts):\n",
    "    print(z)"
   ]
  },
  {
   "cell_type": "code",
   "execution_count": 12,
   "id": "25d5274f-64f6-4abc-84aa-f3f027c02645",
   "metadata": {},
   "outputs": [
    {
     "name": "stdout",
     "output_type": "stream",
     "text": [
      "('Mathias', 'Evans')\n",
      "('Nate', 'Doe')\n",
      "('Hope', 'Smith')\n"
     ]
    },
    {
     "ename": "ValueError",
     "evalue": "zip() argument 2 is longer than argument 1",
     "output_type": "error",
     "traceback": [
      "\u001b[0;31m---------------------------------------------------------------------------\u001b[0m",
      "\u001b[0;31mValueError\u001b[0m                                Traceback (most recent call last)",
      "Cell \u001b[0;32mIn[12], line 2\u001b[0m\n\u001b[1;32m      1\u001b[0m \u001b[38;5;66;03m# Python > 3.10\u001b[39;00m\n\u001b[0;32m----> 2\u001b[0m \u001b[38;5;28;01mfor\u001b[39;00m z \u001b[38;5;129;01min\u001b[39;00m \u001b[38;5;28mzip\u001b[39m(firsts, lasts, strict\u001b[38;5;241m=\u001b[39m\u001b[38;5;28;01mTrue\u001b[39;00m):\n\u001b[1;32m      3\u001b[0m     \u001b[38;5;28mprint\u001b[39m(z)\n",
      "\u001b[0;31mValueError\u001b[0m: zip() argument 2 is longer than argument 1"
     ]
    }
   ],
   "source": [
    "# Python > 3.10\n",
    "for z in zip(firsts, lasts, strict=True):\n",
    "    print(z) # eventually errors (length mismatch)"
   ]
  },
  {
   "cell_type": "code",
   "execution_count": 13,
   "id": "ba4d67b1-9529-43a6-aff8-fdd55b0682ba",
   "metadata": {},
   "outputs": [
    {
     "data": {
      "text/plain": [
       "{'Mathias': 'Evans', 'Nate': 'Doe', 'Hope': 'Smith'}"
      ]
     },
     "execution_count": 13,
     "metadata": {},
     "output_type": "execute_result"
    }
   ],
   "source": [
    "firsts = [\"Mathias\", \"Nate\", \"Hope\"]\n",
    "lasts = [\"Evans\", \"Doe\", \"Smith\"]\n",
    "dict(zip(firsts, lasts))"
   ]
  },
  {
   "cell_type": "code",
   "execution_count": 14,
   "id": "d2845b46-6bea-4115-a89b-4078857dfef6",
   "metadata": {},
   "outputs": [
    {
     "data": {
      "text/plain": [
       "True"
      ]
     },
     "execution_count": 14,
     "metadata": {},
     "output_type": "execute_result"
    }
   ],
   "source": [
    "from pathlib import PurePath\n",
    "PurePath('a/b.py').match('*.py')"
   ]
  },
  {
   "cell_type": "code",
   "execution_count": 15,
   "id": "0d8a99de-b3d7-46f9-a20e-3dfbe10b9374",
   "metadata": {},
   "outputs": [
    {
     "data": {
      "text/plain": [
       "True"
      ]
     },
     "execution_count": 15,
     "metadata": {},
     "output_type": "execute_result"
    }
   ],
   "source": [
    "PurePath('/a/b/c.py').match('b/*.py')"
   ]
  },
  {
   "cell_type": "code",
   "execution_count": 19,
   "id": "ff23fc4f-46e1-4b17-8926-14412228932a",
   "metadata": {},
   "outputs": [
    {
     "data": {
      "text/plain": [
       "True"
      ]
     },
     "execution_count": 19,
     "metadata": {},
     "output_type": "execute_result"
    }
   ],
   "source": [
    "PurePath('/a/b/c.py').match('a/**/*.py')"
   ]
  },
  {
   "cell_type": "code",
   "execution_count": 20,
   "id": "50a13a10-b2ed-407c-8445-8dfdd3015fc6",
   "metadata": {},
   "outputs": [],
   "source": [
    "import csv\n",
    "\n",
    "with open('names.csv', 'w', newline='') as line:\n",
    "    fieldnames = ['first_name', 'last_name']\n",
    "    writer = csv.DictWriter(line, fieldnames=fieldnames)\n",
    "\n",
    "    writer.writeheader()\n",
    "    writer.writerow({'first_name': 'Mathias', 'last_name': 'Potatoe'})\n",
    "    writer.writerow({'first_name': 'Jane', 'last_name': 'Doe'})\n",
    "    writer.writerow({'first_name': 'James', 'last_name': 'Bond'})"
   ]
  },
  {
   "cell_type": "code",
   "execution_count": 21,
   "id": "2fef78dc-7a37-477a-8ea8-d8f96de02830",
   "metadata": {},
   "outputs": [
    {
     "name": "stdout",
     "output_type": "stream",
     "text": [
      "<Hello> has 5 letters.\n",
      "<Grettings> has 9 letters.\n"
     ]
    }
   ],
   "source": [
    "words = [\"Hello\", \"Grettings\"]\n",
    "for word in words:\n",
    "    print(f\"<{word}> has {len(word)} letters.\")"
   ]
  },
  {
   "cell_type": "code",
   "execution_count": 23,
   "id": "379d48e9-ed8d-4aec-b549-7c8ec82d1ca0",
   "metadata": {},
   "outputs": [
    {
     "name": "stdout",
     "output_type": "stream",
     "text": [
      "Word #0: <Hello> has 5 letters. \n",
      "Word #1: <Grettings> has 9 letters. \n"
     ]
    }
   ],
   "source": [
    "for i, word in enumerate(words):\n",
    "    print(f\"Word #{i}: <{word}> has {len(word)} letters. \")"
   ]
  },
  {
   "cell_type": "code",
   "execution_count": 24,
   "id": "7574fab1-7625-45e2-8e78-f1f6104d118e",
   "metadata": {},
   "outputs": [
    {
     "name": "stdout",
     "output_type": "stream",
     "text": [
      "Word #1: <Hello> has 5 letters.\n",
      "Word #2: <Grettings> has 9 letters.\n"
     ]
    }
   ],
   "source": [
    "for i, word in enumerate(words, 1): # optional start\n",
    "    print(f\"Word #{i}: <{word}> has {len(word)} letters.\")"
   ]
  },
  {
   "cell_type": "code",
   "execution_count": 25,
   "id": "7f718633-79a6-45ee-a032-89360753f395",
   "metadata": {},
   "outputs": [
    {
     "name": "stdout",
     "output_type": "stream",
     "text": [
      "-321\n",
      "-320\n",
      "-319\n"
     ]
    }
   ],
   "source": [
    "for i, v in enumerate(\"abc\", start=-321):\n",
    "    print(i)"
   ]
  },
  {
   "cell_type": "code",
   "execution_count": 26,
   "id": "ad0a13f0-dfa2-4c83-b6d0-412f3c2fc435",
   "metadata": {},
   "outputs": [
    {
     "name": "stdout",
     "output_type": "stream",
     "text": [
      "(0, 'z')\n",
      "(1, 'e')\n",
      "(2, 'n')\n",
      "(3, 'o')\n",
      "(4, 'f')\n",
      "(5, 'p')\n",
      "(6, 'y')\n",
      "(7, 't')\n",
      "(8, 'h')\n",
      "(9, 'o')\n",
      "(10, 'n')\n"
     ]
    }
   ],
   "source": [
    "for tup in enumerate(\"zenofpython\"):\n",
    "    print(tup)"
   ]
  },
  {
   "cell_type": "code",
   "execution_count": 32,
   "id": "14ff0867-5cb4-4850-a598-d2266b6e974c",
   "metadata": {},
   "outputs": [
    {
     "name": "stdout",
     "output_type": "stream",
     "text": [
      "(1, (5, 42))\n",
      "(2, (42, 69))\n",
      "(3, (69, 420))\n"
     ]
    }
   ],
   "source": [
    "pages = [5, 42, 69, 420]\n",
    "for tup in enumerate(zip(pages, pages[1:]), start=1):\n",
    "    print(tup)"
   ]
  },
  {
   "cell_type": "code",
   "execution_count": 33,
   "id": "2af5ce83-4118-4487-ae78-8490c94a2001",
   "metadata": {},
   "outputs": [
    {
     "name": "stdout",
     "output_type": "stream",
     "text": [
      "1: 37 pages long.\n",
      "2: 27 pages long.\n",
      "3: 351 pages long.\n"
     ]
    }
   ],
   "source": [
    "for i, (start, end) in enumerate(zip(pages, pages[1:]), start=1):\n",
    "    print(f\"{i}: {end-start} pages long.\")"
   ]
  },
  {
   "cell_type": "code",
   "execution_count": 34,
   "id": "0cd109eb-68be-4d6d-a43b-6065e953a22a",
   "metadata": {},
   "outputs": [],
   "source": [
    "nums = [4071, 53901, 96045, 84886, 5228, 20108, 42468, 89385, 22040, 18800, 4071]\n",
    "odd = lambda x: x%2"
   ]
  },
  {
   "cell_type": "code",
   "execution_count": 38,
   "id": "be59986e-96a0-4c90-9177-278580c07d87",
   "metadata": {},
   "outputs": [
    {
     "data": {
      "text/plain": [
       "[0, 1, 2, 7, 10]"
      ]
     },
     "execution_count": 38,
     "metadata": {},
     "output_type": "execute_result"
    }
   ],
   "source": [
    "[i for i, n in enumerate(nums) if odd(n)]"
   ]
  },
  {
   "cell_type": "code",
   "execution_count": 39,
   "id": "390570e7-d2ba-4d6c-8e7a-7ce7bc7d9d04",
   "metadata": {},
   "outputs": [
    {
     "data": {
      "text/plain": [
       "{0: (1, 9), 1: (10, 15), 2: (21, 28), 3: (30, 52)}"
      ]
     },
     "execution_count": 39,
     "metadata": {},
     "output_type": "execute_result"
    }
   ],
   "source": [
    "starts = [1, 10, 21, 30]\n",
    "stops = [9, 15, 28, 52]\n",
    "dict(enumerate(zip(starts, stops)))"
   ]
  },
  {
   "cell_type": "code",
   "execution_count": 40,
   "id": "2b8523cd-09bb-4143-9375-de3125e89bcb",
   "metadata": {},
   "outputs": [
    {
     "name": "stdout",
     "output_type": "stream",
     "text": [
      "increase\n"
     ]
    }
   ],
   "source": [
    "a = 1\n",
    "b = 2\n",
    "c = 3\n",
    "if a < b < c: # chaining (notice we don't need and)\n",
    "    print(\"increase\")"
   ]
  },
  {
   "cell_type": "code",
   "execution_count": 41,
   "id": "e94b9093-16a2-4166-a17a-5dd86aaa088a",
   "metadata": {},
   "outputs": [
    {
     "name": "stdout",
     "output_type": "stream",
     "text": [
      "some different\n"
     ]
    }
   ],
   "source": [
    "a = b = 1\n",
    "c = 2\n",
    "if a == b == c:\n",
    "    print('all same')\n",
    "else:\n",
    "    print('some different')"
   ]
  },
  {
   "cell_type": "code",
   "execution_count": 42,
   "id": "fc023772-cd5d-4636-8c90-092dea5b159a",
   "metadata": {},
   "outputs": [
    {
     "name": "stdout",
     "output_type": "stream",
     "text": [
      "all same\n"
     ]
    }
   ],
   "source": [
    "c = 1\n",
    "if a == b == c: # does not work for !=\n",
    "    print('all same')\n",
    "else:\n",
    "    print('some are diff')"
   ]
  },
  {
   "cell_type": "code",
   "execution_count": 44,
   "id": "722162b1-fe3f-4f42-8c82-be0cf1ec7964",
   "metadata": {},
   "outputs": [
    {
     "name": "stdout",
     "output_type": "stream",
     "text": [
      "hey\n",
      "done\n",
      "hey\n",
      "hey\n",
      "done\n"
     ]
    }
   ],
   "source": [
    "# using `and` evaluates twice vs chaining:\n",
    "def f():\n",
    "    print('hey')\n",
    "    return 3\n",
    "\n",
    "if 1 < f() < 5:\n",
    "    print('done')\n",
    "\n",
    "if 1 < f() and f() < 5:\n",
    "    print('done')"
   ]
  },
  {
   "cell_type": "code",
   "execution_count": 53,
   "id": "84b64d65-230f-483f-8747-e3678e80c457",
   "metadata": {},
   "outputs": [
    {
     "name": "stdout",
     "output_type": "stream",
     "text": [
      "2\n",
      "-2\n",
      "ehh\n"
     ]
    }
   ],
   "source": [
    "l = [-2, 2]\n",
    "def f():\n",
    "    global l\n",
    "    l = l[::-1]\n",
    "    print(l[0])\n",
    "    return l[0]\n",
    "if 1 < f() and f() < 0:\n",
    "    print('ehh')"
   ]
  },
  {
   "cell_type": "code",
   "execution_count": 54,
   "id": "74389869-0afb-4ba6-8f84-856ad928785d",
   "metadata": {},
   "outputs": [
    {
     "name": "stdout",
     "output_type": "stream",
     "text": [
      "No\n"
     ]
    }
   ],
   "source": [
    "# booby trap! (we would never do this but something that could be overlooked)\n",
    "a = 3\n",
    "lst = [3, 5]\n",
    "if a in lst == True:\n",
    "    print('Yes')\n",
    "else:\n",
    "    print('No')"
   ]
  },
  {
   "cell_type": "code",
   "execution_count": 55,
   "id": "312135de-815c-40a5-8f98-f2b200bbba34",
   "metadata": {},
   "outputs": [],
   "source": [
    "# x or y returns y if x is false, otherwise it returns x.\n",
    "# (x or y) == (y if not x else x)"
   ]
  },
  {
   "cell_type": "code",
   "execution_count": 56,
   "id": "6a374a53-17de-44fa-9624-f18a6c322c07",
   "metadata": {},
   "outputs": [],
   "source": [
    "# short-circuiting speeds up comparisons"
   ]
  },
  {
   "cell_type": "code",
   "execution_count": 59,
   "id": "5074dea9-c4aa-4e4f-aa40-63a20afe2c48",
   "metadata": {},
   "outputs": [
    {
     "data": {
      "text/plain": [
       "1"
      ]
     },
     "execution_count": 59,
     "metadata": {},
     "output_type": "execute_result"
    }
   ],
   "source": [
    "import collections\n",
    "a = {\"A\": 1}\n",
    "b = {\"B\": 2, \"A\": 3}\n",
    "cm = collections.ChainMap(a, b)\n",
    "cm[\"A\"]"
   ]
  },
  {
   "cell_type": "code",
   "execution_count": 60,
   "id": "76957b8b-4164-4cf8-a184-45eb6dab6c13",
   "metadata": {},
   "outputs": [
    {
     "data": {
      "text/plain": [
       "2"
      ]
     },
     "execution_count": 60,
     "metadata": {},
     "output_type": "execute_result"
    }
   ],
   "source": [
    "cm[\"B\"]"
   ]
  },
  {
   "cell_type": "code",
   "execution_count": 61,
   "id": "99fd6c61-9571-4ec1-b4ae-44b596c5c801",
   "metadata": {},
   "outputs": [
    {
     "name": "stdout",
     "output_type": "stream",
     "text": [
      "[1, 2, 3]\n",
      "[5]\n",
      "[5, 5]\n",
      "[5, 5, 5]\n"
     ]
    }
   ],
   "source": [
    "def append(val, l=[]):\n",
    "    l.append(val)\n",
    "    print(l)\n",
    "\n",
    "append(3, [1, 2])\n",
    "append(5)\n",
    "append(5)\n",
    "append(5)"
   ]
  },
  {
   "cell_type": "code",
   "execution_count": 62,
   "id": "b6f9f065-a74b-4eeb-a151-eff45c3e1108",
   "metadata": {},
   "outputs": [
    {
     "name": "stdout",
     "output_type": "stream",
     "text": [
      "Found odd number 35\n"
     ]
    }
   ],
   "source": [
    "items = [14, 16, 18, 20, 35, 41, 100]\n",
    "any_found = False\n",
    "for item in items:\n",
    "    any_found = item % 2\n",
    "    if any_found:\n",
    "        print(f\"Found odd number {item}\")\n",
    "        break"
   ]
  },
  {
   "cell_type": "code",
   "execution_count": 63,
   "id": "0198b5cb-5e46-46ad-9605-e08ee4f82874",
   "metadata": {},
   "outputs": [
    {
     "name": "stdout",
     "output_type": "stream",
     "text": [
      "Found odd number 35\n"
     ]
    }
   ],
   "source": [
    "is_odd = lambda x: x%2\n",
    "if any(is_odd(witness := item) for item in items):\n",
    "    print(f\"Found odd number {witness}\")"
   ]
  },
  {
   "cell_type": "code",
   "execution_count": 70,
   "id": "25e53a93-e5f8-4388-a670-f58461486242",
   "metadata": {},
   "outputs": [
    {
     "data": {
      "text/plain": [
       "{'cheese', 'milk', 'yogurt'}"
      ]
     },
     "execution_count": 70,
     "metadata": {},
     "output_type": "execute_result"
    }
   ],
   "source": [
    "groceries = {\"milk\", \"cheese\", \"yogurt\"}\n",
    "groceries"
   ]
  },
  {
   "cell_type": "code",
   "execution_count": 65,
   "id": "af21acf8-730e-413a-9728-5e972447b6aa",
   "metadata": {},
   "outputs": [
    {
     "data": {
      "text/plain": [
       "'set'"
      ]
     },
     "execution_count": 65,
     "metadata": {},
     "output_type": "execute_result"
    }
   ],
   "source": [
    "type(groceries).__name__"
   ]
  },
  {
   "cell_type": "code",
   "execution_count": 71,
   "id": "7aa59c68-e162-4819-af26-da1189198564",
   "metadata": {},
   "outputs": [
    {
     "data": {
      "text/plain": [
       "True"
      ]
     },
     "execution_count": 71,
     "metadata": {},
     "output_type": "execute_result"
    }
   ],
   "source": [
    "groceries == {\"milk\", \"cheese\", \"yogurt\"}"
   ]
  },
  {
   "cell_type": "code",
   "execution_count": 72,
   "id": "dbd08fd1-2e7e-4817-b4d5-c2f35a4b0b1a",
   "metadata": {},
   "outputs": [
    {
     "data": {
      "text/plain": [
       "True"
      ]
     },
     "execution_count": 72,
     "metadata": {},
     "output_type": "execute_result"
    }
   ],
   "source": [
    "groceries == {\"yogurt\", \"cheese\", \"milk\"}"
   ]
  },
  {
   "cell_type": "code",
   "execution_count": 73,
   "id": "48099735-b2a4-43da-a80c-024846bdd7ab",
   "metadata": {},
   "outputs": [
    {
     "data": {
      "text/plain": [
       "{'cheese', 'milk', 'yogurt'}"
      ]
     },
     "execution_count": 73,
     "metadata": {},
     "output_type": "execute_result"
    }
   ],
   "source": [
    "{\"milk\", \"yogurt\", \"cheese\", \"milk\"}"
   ]
  },
  {
   "cell_type": "code",
   "execution_count": 74,
   "id": "092c0a02-9ff2-4572-b179-43163f49f90d",
   "metadata": {},
   "outputs": [
    {
     "data": {
      "text/plain": [
       "{}"
      ]
     },
     "execution_count": 74,
     "metadata": {},
     "output_type": "execute_result"
    }
   ],
   "source": [
    "{} # does not create an empty set but an empty dictionary"
   ]
  },
  {
   "cell_type": "code",
   "execution_count": 75,
   "id": "0cd1b31e-21c5-492e-89a5-8ff1c97184be",
   "metadata": {},
   "outputs": [
    {
     "data": {
      "text/plain": [
       "dict"
      ]
     },
     "execution_count": 75,
     "metadata": {},
     "output_type": "execute_result"
    }
   ],
   "source": [
    "type({})"
   ]
  },
  {
   "cell_type": "code",
   "execution_count": 76,
   "id": "7310368c-e266-4eda-95b3-fbd2cfdbc081",
   "metadata": {},
   "outputs": [
    {
     "data": {
      "text/plain": [
       "{0, 1, 2}"
      ]
     },
     "execution_count": 76,
     "metadata": {},
     "output_type": "execute_result"
    }
   ],
   "source": [
    "set(range(3))"
   ]
  },
  {
   "cell_type": "code",
   "execution_count": 77,
   "id": "93806363-4cec-4543-9bfd-b43644ec1172",
   "metadata": {},
   "outputs": [
    {
     "data": {
      "text/plain": [
       "{42, 73, 'water'}"
      ]
     },
     "execution_count": 77,
     "metadata": {},
     "output_type": "execute_result"
    }
   ],
   "source": [
    "set([73, \"water\", 42])"
   ]
  },
  {
   "cell_type": "code",
   "execution_count": 78,
   "id": "9557113a-d693-4034-a8ab-cf5539dfce59",
   "metadata": {},
   "outputs": [
    {
     "data": {
      "text/plain": [
       "{'California'}"
      ]
     },
     "execution_count": 78,
     "metadata": {},
     "output_type": "execute_result"
    }
   ],
   "source": [
    "{\"California\"}"
   ]
  },
  {
   "cell_type": "code",
   "execution_count": 79,
   "id": "59f8f434-6eb5-4550-b161-0a98b156ff44",
   "metadata": {},
   "outputs": [
    {
     "data": {
      "text/plain": [
       "{'C', 'a', 'f', 'i', 'l', 'n', 'o', 'r'}"
      ]
     },
     "execution_count": 79,
     "metadata": {},
     "output_type": "execute_result"
    }
   ],
   "source": [
    "set(\"California\")"
   ]
  },
  {
   "cell_type": "code",
   "execution_count": 81,
   "id": "b4e382bb-bd15-4e79-bacc-6819865bd071",
   "metadata": {},
   "outputs": [
    {
     "data": {
      "text/plain": [
       "{'broccoli', 'carrot', 'lettuce'}"
      ]
     },
     "execution_count": 81,
     "metadata": {},
     "output_type": "execute_result"
    }
   ],
   "source": [
    "veggies = [\"broccoli\", \"carrot\", \"lettuce\", \"squash\"]\n",
    "{veggie for veggie in veggies if \"c\" in veggie}"
   ]
  },
  {
   "cell_type": "code",
   "execution_count": 82,
   "id": "9b2c8254-86a2-441a-92c3-62df0a542e2a",
   "metadata": {},
   "outputs": [
    {
     "data": {
      "text/plain": [
       "{'a', 'b', 'c', 'e', 'h', 'i', 'l', 'o', 'q', 'r', 's', 't', 'u'}"
      ]
     },
     "execution_count": 82,
     "metadata": {},
     "output_type": "execute_result"
    }
   ],
   "source": [
    "{char for veggie in veggies for char in veggie}"
   ]
  },
  {
   "cell_type": "code",
   "execution_count": 83,
   "id": "343374dc-ffc9-4ef1-8367-2ebf730c79c6",
   "metadata": {},
   "outputs": [
    {
     "data": {
      "text/plain": [
       "True"
      ]
     },
     "execution_count": 83,
     "metadata": {},
     "output_type": "execute_result"
    }
   ],
   "source": [
    "\"milk\" in groceries"
   ]
  },
  {
   "cell_type": "code",
   "execution_count": 84,
   "id": "6bc5c139-7515-4332-8021-4c41ffcd48c2",
   "metadata": {},
   "outputs": [
    {
     "data": {
      "text/plain": [
       "False"
      ]
     },
     "execution_count": 84,
     "metadata": {},
     "output_type": "execute_result"
    }
   ],
   "source": [
    "\"hot sauce\" in groceries"
   ]
  },
  {
   "cell_type": "code",
   "execution_count": 85,
   "id": "aee81057-0cca-45df-9145-34c83403223e",
   "metadata": {},
   "outputs": [
    {
     "data": {
      "text/plain": [
       "'yogurt'"
      ]
     },
     "execution_count": 85,
     "metadata": {},
     "output_type": "execute_result"
    }
   ],
   "source": [
    "groceries.pop() # poping a random element"
   ]
  },
  {
   "cell_type": "code",
   "execution_count": 86,
   "id": "20699e3a-acf7-4cc5-a74c-ddd624ea73ab",
   "metadata": {},
   "outputs": [
    {
     "data": {
      "text/plain": [
       "{'cheese', 'milk'}"
      ]
     },
     "execution_count": 86,
     "metadata": {},
     "output_type": "execute_result"
    }
   ],
   "source": [
    "groceries"
   ]
  },
  {
   "cell_type": "code",
   "execution_count": 87,
   "id": "b2e79695-e120-46f6-989f-954c299e6b24",
   "metadata": {},
   "outputs": [
    {
     "data": {
      "text/plain": [
       "{'cheese', 'milk', 'pizza'}"
      ]
     },
     "execution_count": 87,
     "metadata": {},
     "output_type": "execute_result"
    }
   ],
   "source": [
    "groceries.add(\"pizza\")\n",
    "groceries"
   ]
  },
  {
   "cell_type": "code",
   "execution_count": 88,
   "id": "5a725fe7-82ae-4270-92e9-63feb87fa668",
   "metadata": {},
   "outputs": [
    {
     "name": "stdout",
     "output_type": "stream",
     "text": [
      "cheese\n",
      "milk\n",
      "pizza\n"
     ]
    }
   ],
   "source": [
    "for item in groceries:\n",
    "    print(item)"
   ]
  },
  {
   "cell_type": "code",
   "execution_count": 89,
   "id": "07b5468a-88fd-4eca-8740-a213f7e16520",
   "metadata": {},
   "outputs": [
    {
     "ename": "TypeError",
     "evalue": "'set' object is not subscriptable",
     "output_type": "error",
     "traceback": [
      "\u001b[0;31m---------------------------------------------------------------------------\u001b[0m",
      "\u001b[0;31mTypeError\u001b[0m                                 Traceback (most recent call last)",
      "Cell \u001b[0;32mIn[89], line 1\u001b[0m\n\u001b[0;32m----> 1\u001b[0m \u001b[43mgroceries\u001b[49m\u001b[43m[\u001b[49m\u001b[38;5;241;43m0\u001b[39;49m\u001b[43m]\u001b[49m \u001b[38;5;66;03m# error\u001b[39;00m\n",
      "\u001b[0;31mTypeError\u001b[0m: 'set' object is not subscriptable"
     ]
    }
   ],
   "source": [
    "groceries[0] # error"
   ]
  },
  {
   "cell_type": "code",
   "execution_count": 90,
   "id": "bb72f740-dfc9-4625-b486-b98b830cd127",
   "metadata": {},
   "outputs": [
    {
     "data": {
      "text/plain": [
       "{'pizza'}"
      ]
     },
     "execution_count": 90,
     "metadata": {},
     "output_type": "execute_result"
    }
   ],
   "source": [
    "treats = {\"pizza\", \"ice cream\", \"popcorn\"}\n",
    "groceries & treats"
   ]
  },
  {
   "cell_type": "code",
   "execution_count": 91,
   "id": "dc69df67-b3ff-4ba2-a54b-80d09c2455d9",
   "metadata": {},
   "outputs": [
    {
     "data": {
      "text/plain": [
       "{'cheese', 'ice cream', 'milk', 'pizza', 'popcorn'}"
      ]
     },
     "execution_count": 91,
     "metadata": {},
     "output_type": "execute_result"
    }
   ],
   "source": [
    "groceries | treats"
   ]
  },
  {
   "cell_type": "code",
   "execution_count": 92,
   "id": "8499ca3c-2c4c-4492-b4b4-5f867a82e8d6",
   "metadata": {},
   "outputs": [
    {
     "data": {
      "text/plain": [
       "{'cheese', 'milk'}"
      ]
     },
     "execution_count": 92,
     "metadata": {},
     "output_type": "execute_result"
    }
   ],
   "source": [
    "# whats on left set but not right set\n",
    "groceries - treats"
   ]
  },
  {
   "cell_type": "code",
   "execution_count": 93,
   "id": "d7f5eaa6-7f9a-4161-abcf-677e91adc189",
   "metadata": {},
   "outputs": [
    {
     "data": {
      "text/plain": [
       "True"
      ]
     },
     "execution_count": 93,
     "metadata": {},
     "output_type": "execute_result"
    }
   ],
   "source": [
    "# containment using <, <=, >=, >\n",
    "{\"cheese\", \"milk\"} < groceries"
   ]
  },
  {
   "cell_type": "code",
   "execution_count": 94,
   "id": "c550b4ce-e6d9-4fa9-bad3-34d5f8c93cc9",
   "metadata": {},
   "outputs": [
    {
     "data": {
      "text/plain": [
       "False"
      ]
     },
     "execution_count": 94,
     "metadata": {},
     "output_type": "execute_result"
    }
   ],
   "source": [
    "groceries < groceries"
   ]
  },
  {
   "cell_type": "code",
   "execution_count": 95,
   "id": "3e31c29d-7010-4660-96e5-f8525b642bb6",
   "metadata": {},
   "outputs": [
    {
     "data": {
      "text/plain": [
       "True"
      ]
     },
     "execution_count": 95,
     "metadata": {},
     "output_type": "execute_result"
    }
   ],
   "source": [
    "groceries <= groceries"
   ]
  },
  {
   "cell_type": "code",
   "execution_count": 96,
   "id": "fcaae7ca-f2a4-4c45-ac82-5aa6f23aa420",
   "metadata": {},
   "outputs": [
    {
     "data": {
      "text/plain": [
       "True"
      ]
     },
     "execution_count": 96,
     "metadata": {},
     "output_type": "execute_result"
    }
   ],
   "source": [
    "treats > {\"pizza\"}"
   ]
  },
  {
   "cell_type": "code",
   "execution_count": 97,
   "id": "411a128a-20cc-447f-a127-6151e98d13cc",
   "metadata": {},
   "outputs": [
    {
     "data": {
      "text/plain": [
       "False"
      ]
     },
     "execution_count": 97,
     "metadata": {},
     "output_type": "execute_result"
    }
   ],
   "source": [
    "treats >= {\"pizza\", \"cheese\"}"
   ]
  },
  {
   "cell_type": "code",
   "execution_count": 98,
   "id": "55cfddf1-3a19-4e5e-b376-141f01f96701",
   "metadata": {},
   "outputs": [
    {
     "data": {
      "text/plain": [
       "frozenset({'cheese', 'milk', 'pizza'})"
      ]
     },
     "execution_count": 98,
     "metadata": {},
     "output_type": "execute_result"
    }
   ],
   "source": [
    "frozenset(groceries)"
   ]
  },
  {
   "cell_type": "code",
   "execution_count": 99,
   "id": "a94040af-c54a-466e-a951-1b17c46d58f3",
   "metadata": {},
   "outputs": [
    {
     "data": {
      "text/plain": [
       "frozenset({'cheese', 'milk', 'pizza'})"
      ]
     },
     "execution_count": 99,
     "metadata": {},
     "output_type": "execute_result"
    }
   ],
   "source": [
    "frozenset([\"cheese\", \"milk\", \"pizza\"])"
   ]
  },
  {
   "cell_type": "code",
   "execution_count": 100,
   "id": "5cc18683-8b2a-46fd-9ac0-06f8b0dcd6e5",
   "metadata": {},
   "outputs": [
    {
     "ename": "AttributeError",
     "evalue": "'frozenset' object has no attribute 'add'",
     "output_type": "error",
     "traceback": [
      "\u001b[0;31m---------------------------------------------------------------------------\u001b[0m",
      "\u001b[0;31mAttributeError\u001b[0m                            Traceback (most recent call last)",
      "Cell \u001b[0;32mIn[100], line 2\u001b[0m\n\u001b[1;32m      1\u001b[0m groceries_ \u001b[38;5;241m=\u001b[39m \u001b[38;5;28mfrozenset\u001b[39m(groceries)\n\u001b[0;32m----> 2\u001b[0m \u001b[43mgroceries_\u001b[49m\u001b[38;5;241;43m.\u001b[39;49m\u001b[43madd\u001b[49m(\u001b[38;5;124m\"\u001b[39m\u001b[38;5;124mmushrooms\u001b[39m\u001b[38;5;124m\"\u001b[39m) \u001b[38;5;66;03m# error\u001b[39;00m\n",
      "\u001b[0;31mAttributeError\u001b[0m: 'frozenset' object has no attribute 'add'"
     ]
    }
   ],
   "source": [
    "groceries_ = frozenset(groceries)\n",
    "groceries_.add(\"mushrooms\") # error"
   ]
  },
  {
   "cell_type": "code",
   "execution_count": 102,
   "id": "0b75c91c-d541-4b6e-885d-3fe34f50db17",
   "metadata": {},
   "outputs": [
    {
     "data": {
      "text/plain": [
       "{'[1, 2, 3]': 69}"
      ]
     },
     "execution_count": 102,
     "metadata": {},
     "output_type": "execute_result"
    }
   ],
   "source": [
    "d = {}\n",
    "d[str([1,2,3])] = 69\n",
    "d"
   ]
  },
  {
   "cell_type": "code",
   "execution_count": 104,
   "id": "189af12c-ab63-49bb-b735-fffaaeb3da53",
   "metadata": {},
   "outputs": [
    {
     "ename": "TypeError",
     "evalue": "unhashable type: 'set'",
     "output_type": "error",
     "traceback": [
      "\u001b[0;31m---------------------------------------------------------------------------\u001b[0m",
      "\u001b[0;31mTypeError\u001b[0m                                 Traceback (most recent call last)",
      "Cell \u001b[0;32mIn[104], line 3\u001b[0m\n\u001b[1;32m      1\u001b[0m \u001b[38;5;66;03m# a set cannot be a dictionary key but frozenset can:\u001b[39;00m\n\u001b[1;32m      2\u001b[0m d \u001b[38;5;241m=\u001b[39m {}\n\u001b[0;32m----> 3\u001b[0m \u001b[43md\u001b[49m\u001b[43m[\u001b[49m\u001b[43mgroceries\u001b[49m\u001b[43m]\u001b[49m \u001b[38;5;241m=\u001b[39m \u001b[38;5;241m42\u001b[39m\n",
      "\u001b[0;31mTypeError\u001b[0m: unhashable type: 'set'"
     ]
    }
   ],
   "source": [
    "# a set cannot be a dictionary key but frozenset can:\n",
    "d = {}\n",
    "d[groceries] = 42 # error"
   ]
  },
  {
   "cell_type": "code",
   "execution_count": 105,
   "id": "ed1c91ad-96b3-4b3f-8fcc-31c290cc0a4c",
   "metadata": {},
   "outputs": [
    {
     "data": {
      "text/plain": [
       "{frozenset({'cheese', 'milk', 'pizza'}): 42}"
      ]
     },
     "execution_count": 105,
     "metadata": {},
     "output_type": "execute_result"
    }
   ],
   "source": [
    "d = {}\n",
    "d[frozenset(groceries)] = 42\n",
    "d"
   ]
  },
  {
   "cell_type": "code",
   "execution_count": 106,
   "id": "5f5b7b4e-b475-43b0-b0f0-7aab68e2e46a",
   "metadata": {},
   "outputs": [
    {
     "data": {
      "text/plain": [
       "'abcdefghijklmnopqrstuvwxyzABCDEFGHIJKLMNOPQRSTUVWXYZ'"
      ]
     },
     "execution_count": 106,
     "metadata": {},
     "output_type": "execute_result"
    }
   ],
   "source": [
    "import string\n",
    "string.ascii_letters"
   ]
  },
  {
   "cell_type": "code",
   "execution_count": 107,
   "id": "a437f6ac-97f2-4991-a604-aabe6ae95193",
   "metadata": {},
   "outputs": [
    {
     "data": {
      "text/plain": [
       "'0123456789'"
      ]
     },
     "execution_count": 107,
     "metadata": {},
     "output_type": "execute_result"
    }
   ],
   "source": [
    "string.digits"
   ]
  },
  {
   "cell_type": "code",
   "execution_count": 111,
   "id": "25ce30e0-1b1b-477c-b10e-304ca28b9b7f",
   "metadata": {},
   "outputs": [],
   "source": [
    "_ASCII_ID_CHARS = frozenset(string.ascii_letters + string.digits + \"_\")"
   ]
  },
  {
   "cell_type": "code",
   "execution_count": 109,
   "id": "ea661a19-fbde-4d3d-aeef-0c5cc3567a28",
   "metadata": {},
   "outputs": [],
   "source": [
    "_ASCII_ID_FIRST_CHARS = frozenset(string.ascii_letters + \"_\")"
   ]
  },
  {
   "cell_type": "code",
   "execution_count": 112,
   "id": "5e3c4ba5-30fc-48e5-b93d-19fdfcc3d4c9",
   "metadata": {},
   "outputs": [],
   "source": [
    "_IS_ASCII_ID_CHAR = [(chr(x) in _ASCII_ID_CHARS) for x in range(128)]"
   ]
  },
  {
   "cell_type": "code",
   "execution_count": 114,
   "id": "96953e75-b457-46b1-8602-b393755c54f2",
   "metadata": {},
   "outputs": [],
   "source": [
    "_IS_ASCII_ID_FIRST_CHAR = [(chr(x) in _ASCII_ID_FIRST_CHARS) for x in range(128)]"
   ]
  },
  {
   "cell_type": "code",
   "execution_count": 116,
   "id": "9204aa36-c8a4-4980-96e5-6ad7d6fa615c",
   "metadata": {},
   "outputs": [
    {
     "data": {
      "text/plain": [
       "[0, 1, 4, 9, 16, 25, 36, 49, 64, 81]"
      ]
     },
     "execution_count": 116,
     "metadata": {},
     "output_type": "execute_result"
    }
   ],
   "source": [
    "squares = [num ** 2 for num in range(10)]\n",
    "squares"
   ]
  },
  {
   "cell_type": "code",
   "execution_count": 124,
   "id": "422c5d4c-0b36-4ec3-8582-dd6619d648f0",
   "metadata": {},
   "outputs": [
    {
     "data": {
      "text/plain": [
       "['BANANA', 'PEAR', 'STRAWBERRY', 'TOMATO']"
      ]
     },
     "execution_count": 124,
     "metadata": {},
     "output_type": "execute_result"
    }
   ],
   "source": [
    "fruits = \"banana pear strawberry tomato\".split()\n",
    "[fruit.upper() for fruit in fruits]"
   ]
  },
  {
   "cell_type": "code",
   "execution_count": 125,
   "id": "fc3bb725-38d3-46ac-8ca1-2dad8f9beb97",
   "metadata": {},
   "outputs": [
    {
     "data": {
      "text/plain": [
       "[3, 5, 5, 3, 5, 4, 2, 4, 4]"
      ]
     },
     "execution_count": 125,
     "metadata": {},
     "output_type": "execute_result"
    }
   ],
   "source": [
    "words = \"The quick brown fox jumps over 13 lazy dogs\".split()\n",
    "[len(word) for word in words]"
   ]
  },
  {
   "cell_type": "code",
   "execution_count": 127,
   "id": "4bc98c69-8bb6-4c71-8e90-62edcdabf778",
   "metadata": {},
   "outputs": [
    {
     "data": {
      "text/plain": [
       "[0, 9, 25, 36, 81]"
      ]
     },
     "execution_count": 127,
     "metadata": {},
     "output_type": "execute_result"
    }
   ],
   "source": [
    "fizz_buzz_squares = [\n",
    "    num ** 2\n",
    "    for num in range(10)\n",
    "    if (num % 3 == 0) or (num % 5 == 0)\n",
    "]\n",
    "fizz_buzz_squares"
   ]
  },
  {
   "cell_type": "code",
   "execution_count": 129,
   "id": "a5cbf4e9-ab7f-4d17-b735-bae5d7732fac",
   "metadata": {},
   "outputs": [
    {
     "data": {
      "text/plain": [
       "['PEAR', 'STRAWBERRY', 'TOMATO']"
      ]
     },
     "execution_count": 129,
     "metadata": {},
     "output_type": "execute_result"
    }
   ],
   "source": [
    "fruits = \"Banana pear PEACH strawberry tomato\".split()\n",
    "[fruit.upper() for fruit in fruits if fruit.islower()]"
   ]
  },
  {
   "cell_type": "code",
   "execution_count": 130,
   "id": "83939667-99bd-48c5-8f25-7a0e4d8bc8b4",
   "metadata": {},
   "outputs": [
    {
     "data": {
      "text/plain": [
       "[5, 3, 4, 4]"
      ]
     },
     "execution_count": 130,
     "metadata": {},
     "output_type": "execute_result"
    }
   ],
   "source": [
    "words = \"The quick brown fox jumps over 13 lazy dogs\".split()\n",
    "[len(word) for word in words if \"o\" in word]"
   ]
  },
  {
   "cell_type": "code",
   "execution_count": 140,
   "id": "c671a978-f69f-4ff7-ab2a-faf717aa30f9",
   "metadata": {},
   "outputs": [
    {
     "name": "stdout",
     "output_type": "stream",
     "text": [
      "[1, 2, 3, 4, 5, 6, 7, 8, 9]\n"
     ]
    }
   ],
   "source": [
    "from itertools import chain\n",
    "\n",
    "# nested_lists = [[1, 2, 3], [4, 5, 6], [3, [3, [32]], [[2]]], [7, 8, 9]]\n",
    "nested_lists = [[1, 2, 3], [4, 5, 6], [7, 8, 9]]\n",
    "flat = chain.from_iterable(nested_lists)\n",
    "print(list(flat))"
   ]
  },
  {
   "cell_type": "code",
   "execution_count": 150,
   "id": "0e727329-555a-4360-b7a0-34476b7208ca",
   "metadata": {},
   "outputs": [
    {
     "data": {
      "text/plain": [
       "(18, 171, 96)"
      ]
     },
     "execution_count": 150,
     "metadata": {},
     "output_type": "execute_result"
    }
   ],
   "source": [
    "# random RGB\n",
    "from random import randint\n",
    "\n",
    "color = [randint(0, 255) for _ in range(3)]\n",
    "tuple(color)"
   ]
  },
  {
   "cell_type": "code",
   "execution_count": null,
   "id": "b285383a-4304-4eb8-9a3f-ef40bf75700a",
   "metadata": {},
   "outputs": [],
   "source": []
  }
 ],
 "metadata": {
  "kernelspec": {
   "display_name": "Python 3.10",
   "language": "python",
   "name": "python3.10"
  },
  "language_info": {
   "codemirror_mode": {
    "name": "ipython",
    "version": 3
   },
   "file_extension": ".py",
   "mimetype": "text/x-python",
   "name": "python",
   "nbconvert_exporter": "python",
   "pygments_lexer": "ipython3",
   "version": "3.10.12"
  }
 },
 "nbformat": 4,
 "nbformat_minor": 5
}
