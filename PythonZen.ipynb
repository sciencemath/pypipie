{
 "cells": [
  {
   "cell_type": "markdown",
   "id": "74f2c379-4ae2-45a5-87d2-34a73d380798",
   "metadata": {},
   "source": [
    "# Zen of Python\n",
    "\n",
    "Although these examples seem trivial, I still need a little practice for the gotchas.\n",
    "\n",
    "Most is review, unfortunately interview processes are riddled with gotchas :( better to be prepared than not remembering something small"
   ]
  },
  {
   "cell_type": "code",
   "execution_count": 2,
   "id": "bba38bae-c12b-4324-bb7d-0d4a9aa248ab",
   "metadata": {},
   "outputs": [
    {
     "name": "stdout",
     "output_type": "stream",
     "text": [
      "Mathias Evans\n",
      "Nate Doe\n",
      "Hope Smith\n"
     ]
    }
   ],
   "source": [
    "firsts = [\"Mathias\", \"Nate\", \"Hope\"]\n",
    "lasts = [\"Evans\", \"Doe\", \"Smith\"]\n",
    "for i in range(len(firsts)):\n",
    "    print(f\"{firsts[i]} {lasts[i]}\")"
   ]
  },
  {
   "cell_type": "code",
   "execution_count": 3,
   "id": "f498d7ec-2882-43af-99b1-cabb9c5872b4",
   "metadata": {},
   "outputs": [
    {
     "name": "stdout",
     "output_type": "stream",
     "text": [
      "Mathias Evans\n",
      "Nate Doe\n",
      "Hope Smith\n"
     ]
    }
   ],
   "source": [
    "for first, last in zip(firsts, lasts):\n",
    "    print(f\"{first} {last}\")"
   ]
  },
  {
   "cell_type": "code",
   "execution_count": 4,
   "id": "7b82d495-6889-43eb-9d6a-443e12c25a65",
   "metadata": {},
   "outputs": [
    {
     "name": "stdout",
     "output_type": "stream",
     "text": [
      "('Mathias', 'Evans')\n",
      "('Nate', 'Doe')\n",
      "('Hope', 'Smith')\n"
     ]
    }
   ],
   "source": [
    "for z in zip(firsts, lasts):\n",
    "    print(z)"
   ]
  },
  {
   "cell_type": "code",
   "execution_count": 5,
   "id": "ea48fc42-3f6f-4553-a186-592fbff0a9a8",
   "metadata": {},
   "outputs": [
    {
     "name": "stdout",
     "output_type": "stream",
     "text": [
      "Mathias Evans\n",
      "Nate Doe\n",
      "Hope Smith\n"
     ]
    }
   ],
   "source": [
    "for z in zip(firsts, lasts):\n",
    "    first, last = z\n",
    "    print(f\"{first} {last}\")"
   ]
  },
  {
   "cell_type": "code",
   "execution_count": 6,
   "id": "f45dda0b-bc96-4887-ad78-b8ba0551b47a",
   "metadata": {},
   "outputs": [
    {
     "data": {
      "text/plain": [
       "<zip at 0x110293180>"
      ]
     },
     "execution_count": 6,
     "metadata": {},
     "output_type": "execute_result"
    }
   ],
   "source": [
    "z = zip(firsts, lasts)\n",
    "z"
   ]
  },
  {
   "cell_type": "code",
   "execution_count": 7,
   "id": "2be4c765-531b-47dc-8246-ee0fdad904fd",
   "metadata": {},
   "outputs": [
    {
     "data": {
      "text/plain": [
       "[('Mathias', 'Evans'), ('Nate', 'Doe'), ('Hope', 'Smith')]"
      ]
     },
     "execution_count": 7,
     "metadata": {},
     "output_type": "execute_result"
    }
   ],
   "source": [
    "list(z)"
   ]
  },
  {
   "cell_type": "code",
   "execution_count": 8,
   "id": "d7cf6721-fb6f-4d0f-8d0b-03e045d93aa5",
   "metadata": {},
   "outputs": [
    {
     "ename": "TypeError",
     "evalue": "object of type 'zip' has no len()",
     "output_type": "error",
     "traceback": [
      "\u001b[0;31m---------------------------------------------------------------------------\u001b[0m",
      "\u001b[0;31mTypeError\u001b[0m                                 Traceback (most recent call last)",
      "Cell \u001b[0;32mIn[8], line 1\u001b[0m\n\u001b[0;32m----> 1\u001b[0m \u001b[38;5;28;43mlen\u001b[39;49m\u001b[43m(\u001b[49m\u001b[43mz\u001b[49m\u001b[43m)\u001b[49m \u001b[38;5;66;03m# error zip is lazy\u001b[39;00m\n",
      "\u001b[0;31mTypeError\u001b[0m: object of type 'zip' has no len()"
     ]
    }
   ],
   "source": [
    "len(z) # error zip is lazy"
   ]
  },
  {
   "cell_type": "code",
   "execution_count": 9,
   "id": "d4548d9a-390b-4113-9146-c24a5fdd7c02",
   "metadata": {},
   "outputs": [
    {
     "name": "stdout",
     "output_type": "stream",
     "text": [
      "('Mathias', 'F.', 'Evans')\n",
      "('Nate', 'C.', 'Doe')\n",
      "('Hope', 'L.', 'Smith')\n"
     ]
    }
   ],
   "source": [
    "middles = [\"F.\", \"C.\", \"L.\"]\n",
    "for z in zip(firsts, middles, lasts):\n",
    "    print(z)"
   ]
  },
  {
   "cell_type": "code",
   "execution_count": 10,
   "id": "ff2c5fab-cf26-44a9-a3b8-04b646cbf6f0",
   "metadata": {},
   "outputs": [
    {
     "name": "stdout",
     "output_type": "stream",
     "text": [
      "('Dr.', 'Mathias', 'F.', 'Evans')\n",
      "('Mr.', 'Nate', 'C.', 'Doe')\n",
      "('Sir', 'Hope', 'L.', 'Smith')\n"
     ]
    }
   ],
   "source": [
    "prefixes = [\"Dr.\", \"Mr.\", \"Sir\"]\n",
    "for z in zip(prefixes, firsts, middles, lasts):\n",
    "    print(z)"
   ]
  },
  {
   "cell_type": "code",
   "execution_count": 11,
   "id": "7d29a8f5-e441-422d-af15-658de278efc5",
   "metadata": {},
   "outputs": [
    {
     "name": "stdout",
     "output_type": "stream",
     "text": [
      "('Mathias', 'Evans')\n",
      "('Nate', 'Doe')\n",
      "('Hope', 'Smith')\n"
     ]
    }
   ],
   "source": [
    "lasts = [\"Evans\", \"Doe\", \"Smith\", \"McKneel\"]\n",
    "for z in zip(firsts, lasts):\n",
    "    print(z)"
   ]
  },
  {
   "cell_type": "code",
   "execution_count": 12,
   "id": "25d5274f-64f6-4abc-84aa-f3f027c02645",
   "metadata": {},
   "outputs": [
    {
     "name": "stdout",
     "output_type": "stream",
     "text": [
      "('Mathias', 'Evans')\n",
      "('Nate', 'Doe')\n",
      "('Hope', 'Smith')\n"
     ]
    },
    {
     "ename": "ValueError",
     "evalue": "zip() argument 2 is longer than argument 1",
     "output_type": "error",
     "traceback": [
      "\u001b[0;31m---------------------------------------------------------------------------\u001b[0m",
      "\u001b[0;31mValueError\u001b[0m                                Traceback (most recent call last)",
      "Cell \u001b[0;32mIn[12], line 2\u001b[0m\n\u001b[1;32m      1\u001b[0m \u001b[38;5;66;03m# Python > 3.10\u001b[39;00m\n\u001b[0;32m----> 2\u001b[0m \u001b[38;5;28;01mfor\u001b[39;00m z \u001b[38;5;129;01min\u001b[39;00m \u001b[38;5;28mzip\u001b[39m(firsts, lasts, strict\u001b[38;5;241m=\u001b[39m\u001b[38;5;28;01mTrue\u001b[39;00m):\n\u001b[1;32m      3\u001b[0m     \u001b[38;5;28mprint\u001b[39m(z)\n",
      "\u001b[0;31mValueError\u001b[0m: zip() argument 2 is longer than argument 1"
     ]
    }
   ],
   "source": [
    "# Python > 3.10\n",
    "for z in zip(firsts, lasts, strict=True):\n",
    "    print(z) # eventually errors (length mismatch)"
   ]
  },
  {
   "cell_type": "code",
   "execution_count": 13,
   "id": "ba4d67b1-9529-43a6-aff8-fdd55b0682ba",
   "metadata": {},
   "outputs": [
    {
     "data": {
      "text/plain": [
       "{'Mathias': 'Evans', 'Nate': 'Doe', 'Hope': 'Smith'}"
      ]
     },
     "execution_count": 13,
     "metadata": {},
     "output_type": "execute_result"
    }
   ],
   "source": [
    "firsts = [\"Mathias\", \"Nate\", \"Hope\"]\n",
    "lasts = [\"Evans\", \"Doe\", \"Smith\"]\n",
    "dict(zip(firsts, lasts))"
   ]
  },
  {
   "cell_type": "code",
   "execution_count": 14,
   "id": "d2845b46-6bea-4115-a89b-4078857dfef6",
   "metadata": {},
   "outputs": [
    {
     "data": {
      "text/plain": [
       "True"
      ]
     },
     "execution_count": 14,
     "metadata": {},
     "output_type": "execute_result"
    }
   ],
   "source": [
    "from pathlib import PurePath\n",
    "PurePath('a/b.py').match('*.py')"
   ]
  },
  {
   "cell_type": "code",
   "execution_count": 15,
   "id": "0d8a99de-b3d7-46f9-a20e-3dfbe10b9374",
   "metadata": {},
   "outputs": [
    {
     "data": {
      "text/plain": [
       "True"
      ]
     },
     "execution_count": 15,
     "metadata": {},
     "output_type": "execute_result"
    }
   ],
   "source": [
    "PurePath('/a/b/c.py').match('b/*.py')"
   ]
  },
  {
   "cell_type": "code",
   "execution_count": 19,
   "id": "ff23fc4f-46e1-4b17-8926-14412228932a",
   "metadata": {},
   "outputs": [
    {
     "data": {
      "text/plain": [
       "True"
      ]
     },
     "execution_count": 19,
     "metadata": {},
     "output_type": "execute_result"
    }
   ],
   "source": [
    "PurePath('/a/b/c.py').match('a/**/*.py')"
   ]
  },
  {
   "cell_type": "code",
   "execution_count": 20,
   "id": "50a13a10-b2ed-407c-8445-8dfdd3015fc6",
   "metadata": {},
   "outputs": [],
   "source": [
    "import csv\n",
    "\n",
    "with open('names.csv', 'w', newline='') as line:\n",
    "    fieldnames = ['first_name', 'last_name']\n",
    "    writer = csv.DictWriter(line, fieldnames=fieldnames)\n",
    "\n",
    "    writer.writeheader()\n",
    "    writer.writerow({'first_name': 'Mathias', 'last_name': 'Potatoe'})\n",
    "    writer.writerow({'first_name': 'Jane', 'last_name': 'Doe'})\n",
    "    writer.writerow({'first_name': 'James', 'last_name': 'Bond'})"
   ]
  },
  {
   "cell_type": "code",
   "execution_count": 21,
   "id": "2fef78dc-7a37-477a-8ea8-d8f96de02830",
   "metadata": {},
   "outputs": [
    {
     "name": "stdout",
     "output_type": "stream",
     "text": [
      "<Hello> has 5 letters.\n",
      "<Grettings> has 9 letters.\n"
     ]
    }
   ],
   "source": [
    "words = [\"Hello\", \"Grettings\"]\n",
    "for word in words:\n",
    "    print(f\"<{word}> has {len(word)} letters.\")"
   ]
  },
  {
   "cell_type": "code",
   "execution_count": 23,
   "id": "379d48e9-ed8d-4aec-b549-7c8ec82d1ca0",
   "metadata": {},
   "outputs": [
    {
     "name": "stdout",
     "output_type": "stream",
     "text": [
      "Word #0: <Hello> has 5 letters. \n",
      "Word #1: <Grettings> has 9 letters. \n"
     ]
    }
   ],
   "source": [
    "for i, word in enumerate(words):\n",
    "    print(f\"Word #{i}: <{word}> has {len(word)} letters. \")"
   ]
  },
  {
   "cell_type": "code",
   "execution_count": 24,
   "id": "7574fab1-7625-45e2-8e78-f1f6104d118e",
   "metadata": {},
   "outputs": [
    {
     "name": "stdout",
     "output_type": "stream",
     "text": [
      "Word #1: <Hello> has 5 letters.\n",
      "Word #2: <Grettings> has 9 letters.\n"
     ]
    }
   ],
   "source": [
    "for i, word in enumerate(words, 1): # optional start\n",
    "    print(f\"Word #{i}: <{word}> has {len(word)} letters.\")"
   ]
  },
  {
   "cell_type": "code",
   "execution_count": 25,
   "id": "7f718633-79a6-45ee-a032-89360753f395",
   "metadata": {},
   "outputs": [
    {
     "name": "stdout",
     "output_type": "stream",
     "text": [
      "-321\n",
      "-320\n",
      "-319\n"
     ]
    }
   ],
   "source": [
    "for i, v in enumerate(\"abc\", start=-321):\n",
    "    print(i)"
   ]
  },
  {
   "cell_type": "code",
   "execution_count": 26,
   "id": "ad0a13f0-dfa2-4c83-b6d0-412f3c2fc435",
   "metadata": {},
   "outputs": [
    {
     "name": "stdout",
     "output_type": "stream",
     "text": [
      "(0, 'z')\n",
      "(1, 'e')\n",
      "(2, 'n')\n",
      "(3, 'o')\n",
      "(4, 'f')\n",
      "(5, 'p')\n",
      "(6, 'y')\n",
      "(7, 't')\n",
      "(8, 'h')\n",
      "(9, 'o')\n",
      "(10, 'n')\n"
     ]
    }
   ],
   "source": [
    "for tup in enumerate(\"zenofpython\"):\n",
    "    print(tup)"
   ]
  },
  {
   "cell_type": "code",
   "execution_count": 32,
   "id": "14ff0867-5cb4-4850-a598-d2266b6e974c",
   "metadata": {},
   "outputs": [
    {
     "name": "stdout",
     "output_type": "stream",
     "text": [
      "(1, (5, 42))\n",
      "(2, (42, 69))\n",
      "(3, (69, 420))\n"
     ]
    }
   ],
   "source": [
    "pages = [5, 42, 69, 420]\n",
    "for tup in enumerate(zip(pages, pages[1:]), start=1):\n",
    "    print(tup)"
   ]
  },
  {
   "cell_type": "code",
   "execution_count": 33,
   "id": "2af5ce83-4118-4487-ae78-8490c94a2001",
   "metadata": {},
   "outputs": [
    {
     "name": "stdout",
     "output_type": "stream",
     "text": [
      "1: 37 pages long.\n",
      "2: 27 pages long.\n",
      "3: 351 pages long.\n"
     ]
    }
   ],
   "source": [
    "for i, (start, end) in enumerate(zip(pages, pages[1:]), start=1):\n",
    "    print(f\"{i}: {end-start} pages long.\")"
   ]
  },
  {
   "cell_type": "code",
   "execution_count": 34,
   "id": "0cd109eb-68be-4d6d-a43b-6065e953a22a",
   "metadata": {},
   "outputs": [],
   "source": [
    "nums = [4071, 53901, 96045, 84886, 5228, 20108, 42468, 89385, 22040, 18800, 4071]\n",
    "odd = lambda x: x%2"
   ]
  },
  {
   "cell_type": "code",
   "execution_count": 38,
   "id": "be59986e-96a0-4c90-9177-278580c07d87",
   "metadata": {},
   "outputs": [
    {
     "data": {
      "text/plain": [
       "[0, 1, 2, 7, 10]"
      ]
     },
     "execution_count": 38,
     "metadata": {},
     "output_type": "execute_result"
    }
   ],
   "source": [
    "[i for i, n in enumerate(nums) if odd(n)]"
   ]
  },
  {
   "cell_type": "code",
   "execution_count": 39,
   "id": "390570e7-d2ba-4d6c-8e7a-7ce7bc7d9d04",
   "metadata": {},
   "outputs": [
    {
     "data": {
      "text/plain": [
       "{0: (1, 9), 1: (10, 15), 2: (21, 28), 3: (30, 52)}"
      ]
     },
     "execution_count": 39,
     "metadata": {},
     "output_type": "execute_result"
    }
   ],
   "source": [
    "starts = [1, 10, 21, 30]\n",
    "stops = [9, 15, 28, 52]\n",
    "dict(enumerate(zip(starts, stops)))"
   ]
  },
  {
   "cell_type": "code",
   "execution_count": 40,
   "id": "2b8523cd-09bb-4143-9375-de3125e89bcb",
   "metadata": {},
   "outputs": [
    {
     "name": "stdout",
     "output_type": "stream",
     "text": [
      "increase\n"
     ]
    }
   ],
   "source": [
    "a = 1\n",
    "b = 2\n",
    "c = 3\n",
    "if a < b < c: # chaining (notice we don't need and)\n",
    "    print(\"increase\")"
   ]
  },
  {
   "cell_type": "code",
   "execution_count": 41,
   "id": "e94b9093-16a2-4166-a17a-5dd86aaa088a",
   "metadata": {},
   "outputs": [
    {
     "name": "stdout",
     "output_type": "stream",
     "text": [
      "some different\n"
     ]
    }
   ],
   "source": [
    "a = b = 1\n",
    "c = 2\n",
    "if a == b == c:\n",
    "    print('all same')\n",
    "else:\n",
    "    print('some different')"
   ]
  },
  {
   "cell_type": "code",
   "execution_count": 42,
   "id": "fc023772-cd5d-4636-8c90-092dea5b159a",
   "metadata": {},
   "outputs": [
    {
     "name": "stdout",
     "output_type": "stream",
     "text": [
      "all same\n"
     ]
    }
   ],
   "source": [
    "c = 1\n",
    "if a == b == c: # does not work for !=\n",
    "    print('all same')\n",
    "else:\n",
    "    print('some are diff')"
   ]
  },
  {
   "cell_type": "code",
   "execution_count": 44,
   "id": "722162b1-fe3f-4f42-8c82-be0cf1ec7964",
   "metadata": {},
   "outputs": [
    {
     "name": "stdout",
     "output_type": "stream",
     "text": [
      "hey\n",
      "done\n",
      "hey\n",
      "hey\n",
      "done\n"
     ]
    }
   ],
   "source": [
    "# using `and` evaluates twice vs chaining:\n",
    "def f():\n",
    "    print('hey')\n",
    "    return 3\n",
    "\n",
    "if 1 < f() < 5:\n",
    "    print('done')\n",
    "\n",
    "if 1 < f() and f() < 5:\n",
    "    print('done')"
   ]
  },
  {
   "cell_type": "code",
   "execution_count": 53,
   "id": "84b64d65-230f-483f-8747-e3678e80c457",
   "metadata": {},
   "outputs": [
    {
     "name": "stdout",
     "output_type": "stream",
     "text": [
      "2\n",
      "-2\n",
      "ehh\n"
     ]
    }
   ],
   "source": [
    "l = [-2, 2]\n",
    "def f():\n",
    "    global l\n",
    "    l = l[::-1]\n",
    "    print(l[0])\n",
    "    return l[0]\n",
    "if 1 < f() and f() < 0:\n",
    "    print('ehh')"
   ]
  },
  {
   "cell_type": "code",
   "execution_count": 54,
   "id": "74389869-0afb-4ba6-8f84-856ad928785d",
   "metadata": {},
   "outputs": [
    {
     "name": "stdout",
     "output_type": "stream",
     "text": [
      "No\n"
     ]
    }
   ],
   "source": [
    "# booby trap! (we would never do this but something that could be overlooked)\n",
    "a = 3\n",
    "lst = [3, 5]\n",
    "if a in lst == True:\n",
    "    print('Yes')\n",
    "else:\n",
    "    print('No')"
   ]
  },
  {
   "cell_type": "code",
   "execution_count": 55,
   "id": "312135de-815c-40a5-8f98-f2b200bbba34",
   "metadata": {},
   "outputs": [],
   "source": [
    "# x or y returns y if x is false, otherwise it returns x.\n",
    "# (x or y) == (y if not x else x)"
   ]
  },
  {
   "cell_type": "code",
   "execution_count": 56,
   "id": "6a374a53-17de-44fa-9624-f18a6c322c07",
   "metadata": {},
   "outputs": [],
   "source": [
    "# short-circuiting speeds up comparisons"
   ]
  },
  {
   "cell_type": "code",
   "execution_count": 59,
   "id": "5074dea9-c4aa-4e4f-aa40-63a20afe2c48",
   "metadata": {},
   "outputs": [
    {
     "data": {
      "text/plain": [
       "1"
      ]
     },
     "execution_count": 59,
     "metadata": {},
     "output_type": "execute_result"
    }
   ],
   "source": [
    "import collections\n",
    "a = {\"A\": 1}\n",
    "b = {\"B\": 2, \"A\": 3}\n",
    "cm = collections.ChainMap(a, b)\n",
    "cm[\"A\"]"
   ]
  },
  {
   "cell_type": "code",
   "execution_count": 60,
   "id": "76957b8b-4164-4cf8-a184-45eb6dab6c13",
   "metadata": {},
   "outputs": [
    {
     "data": {
      "text/plain": [
       "2"
      ]
     },
     "execution_count": 60,
     "metadata": {},
     "output_type": "execute_result"
    }
   ],
   "source": [
    "cm[\"B\"]"
   ]
  },
  {
   "cell_type": "code",
   "execution_count": 61,
   "id": "99fd6c61-9571-4ec1-b4ae-44b596c5c801",
   "metadata": {},
   "outputs": [
    {
     "name": "stdout",
     "output_type": "stream",
     "text": [
      "[1, 2, 3]\n",
      "[5]\n",
      "[5, 5]\n",
      "[5, 5, 5]\n"
     ]
    }
   ],
   "source": [
    "def append(val, l=[]):\n",
    "    l.append(val)\n",
    "    print(l)\n",
    "\n",
    "append(3, [1, 2])\n",
    "append(5)\n",
    "append(5)\n",
    "append(5)"
   ]
  },
  {
   "cell_type": "code",
   "execution_count": 62,
   "id": "b6f9f065-a74b-4eeb-a151-eff45c3e1108",
   "metadata": {},
   "outputs": [
    {
     "name": "stdout",
     "output_type": "stream",
     "text": [
      "Found odd number 35\n"
     ]
    }
   ],
   "source": [
    "items = [14, 16, 18, 20, 35, 41, 100]\n",
    "any_found = False\n",
    "for item in items:\n",
    "    any_found = item % 2\n",
    "    if any_found:\n",
    "        print(f\"Found odd number {item}\")\n",
    "        break"
   ]
  },
  {
   "cell_type": "code",
   "execution_count": 63,
   "id": "0198b5cb-5e46-46ad-9605-e08ee4f82874",
   "metadata": {},
   "outputs": [
    {
     "name": "stdout",
     "output_type": "stream",
     "text": [
      "Found odd number 35\n"
     ]
    }
   ],
   "source": [
    "is_odd = lambda x: x%2\n",
    "if any(is_odd(witness := item) for item in items):\n",
    "    print(f\"Found odd number {witness}\")"
   ]
  },
  {
   "cell_type": "code",
   "execution_count": 70,
   "id": "25e53a93-e5f8-4388-a670-f58461486242",
   "metadata": {},
   "outputs": [
    {
     "data": {
      "text/plain": [
       "{'cheese', 'milk', 'yogurt'}"
      ]
     },
     "execution_count": 70,
     "metadata": {},
     "output_type": "execute_result"
    }
   ],
   "source": [
    "groceries = {\"milk\", \"cheese\", \"yogurt\"}\n",
    "groceries"
   ]
  },
  {
   "cell_type": "code",
   "execution_count": 65,
   "id": "af21acf8-730e-413a-9728-5e972447b6aa",
   "metadata": {},
   "outputs": [
    {
     "data": {
      "text/plain": [
       "'set'"
      ]
     },
     "execution_count": 65,
     "metadata": {},
     "output_type": "execute_result"
    }
   ],
   "source": [
    "type(groceries).__name__"
   ]
  },
  {
   "cell_type": "code",
   "execution_count": 71,
   "id": "7aa59c68-e162-4819-af26-da1189198564",
   "metadata": {},
   "outputs": [
    {
     "data": {
      "text/plain": [
       "True"
      ]
     },
     "execution_count": 71,
     "metadata": {},
     "output_type": "execute_result"
    }
   ],
   "source": [
    "groceries == {\"milk\", \"cheese\", \"yogurt\"}"
   ]
  },
  {
   "cell_type": "code",
   "execution_count": 72,
   "id": "dbd08fd1-2e7e-4817-b4d5-c2f35a4b0b1a",
   "metadata": {},
   "outputs": [
    {
     "data": {
      "text/plain": [
       "True"
      ]
     },
     "execution_count": 72,
     "metadata": {},
     "output_type": "execute_result"
    }
   ],
   "source": [
    "groceries == {\"yogurt\", \"cheese\", \"milk\"}"
   ]
  },
  {
   "cell_type": "code",
   "execution_count": 73,
   "id": "48099735-b2a4-43da-a80c-024846bdd7ab",
   "metadata": {},
   "outputs": [
    {
     "data": {
      "text/plain": [
       "{'cheese', 'milk', 'yogurt'}"
      ]
     },
     "execution_count": 73,
     "metadata": {},
     "output_type": "execute_result"
    }
   ],
   "source": [
    "{\"milk\", \"yogurt\", \"cheese\", \"milk\"}"
   ]
  },
  {
   "cell_type": "code",
   "execution_count": 74,
   "id": "092c0a02-9ff2-4572-b179-43163f49f90d",
   "metadata": {},
   "outputs": [
    {
     "data": {
      "text/plain": [
       "{}"
      ]
     },
     "execution_count": 74,
     "metadata": {},
     "output_type": "execute_result"
    }
   ],
   "source": [
    "{} # does not create an empty set but an empty dictionary"
   ]
  },
  {
   "cell_type": "code",
   "execution_count": 75,
   "id": "0cd1b31e-21c5-492e-89a5-8ff1c97184be",
   "metadata": {},
   "outputs": [
    {
     "data": {
      "text/plain": [
       "dict"
      ]
     },
     "execution_count": 75,
     "metadata": {},
     "output_type": "execute_result"
    }
   ],
   "source": [
    "type({})"
   ]
  },
  {
   "cell_type": "code",
   "execution_count": 76,
   "id": "7310368c-e266-4eda-95b3-fbd2cfdbc081",
   "metadata": {},
   "outputs": [
    {
     "data": {
      "text/plain": [
       "{0, 1, 2}"
      ]
     },
     "execution_count": 76,
     "metadata": {},
     "output_type": "execute_result"
    }
   ],
   "source": [
    "set(range(3))"
   ]
  },
  {
   "cell_type": "code",
   "execution_count": 77,
   "id": "93806363-4cec-4543-9bfd-b43644ec1172",
   "metadata": {},
   "outputs": [
    {
     "data": {
      "text/plain": [
       "{42, 73, 'water'}"
      ]
     },
     "execution_count": 77,
     "metadata": {},
     "output_type": "execute_result"
    }
   ],
   "source": [
    "set([73, \"water\", 42])"
   ]
  },
  {
   "cell_type": "code",
   "execution_count": 78,
   "id": "9557113a-d693-4034-a8ab-cf5539dfce59",
   "metadata": {},
   "outputs": [
    {
     "data": {
      "text/plain": [
       "{'California'}"
      ]
     },
     "execution_count": 78,
     "metadata": {},
     "output_type": "execute_result"
    }
   ],
   "source": [
    "{\"California\"}"
   ]
  },
  {
   "cell_type": "code",
   "execution_count": 79,
   "id": "59f8f434-6eb5-4550-b161-0a98b156ff44",
   "metadata": {},
   "outputs": [
    {
     "data": {
      "text/plain": [
       "{'C', 'a', 'f', 'i', 'l', 'n', 'o', 'r'}"
      ]
     },
     "execution_count": 79,
     "metadata": {},
     "output_type": "execute_result"
    }
   ],
   "source": [
    "set(\"California\")"
   ]
  },
  {
   "cell_type": "code",
   "execution_count": 81,
   "id": "b4e382bb-bd15-4e79-bacc-6819865bd071",
   "metadata": {},
   "outputs": [
    {
     "data": {
      "text/plain": [
       "{'broccoli', 'carrot', 'lettuce'}"
      ]
     },
     "execution_count": 81,
     "metadata": {},
     "output_type": "execute_result"
    }
   ],
   "source": [
    "veggies = [\"broccoli\", \"carrot\", \"lettuce\", \"squash\"]\n",
    "{veggie for veggie in veggies if \"c\" in veggie}"
   ]
  },
  {
   "cell_type": "code",
   "execution_count": 82,
   "id": "9b2c8254-86a2-441a-92c3-62df0a542e2a",
   "metadata": {},
   "outputs": [
    {
     "data": {
      "text/plain": [
       "{'a', 'b', 'c', 'e', 'h', 'i', 'l', 'o', 'q', 'r', 's', 't', 'u'}"
      ]
     },
     "execution_count": 82,
     "metadata": {},
     "output_type": "execute_result"
    }
   ],
   "source": [
    "{char for veggie in veggies for char in veggie}"
   ]
  },
  {
   "cell_type": "code",
   "execution_count": 83,
   "id": "343374dc-ffc9-4ef1-8367-2ebf730c79c6",
   "metadata": {},
   "outputs": [
    {
     "data": {
      "text/plain": [
       "True"
      ]
     },
     "execution_count": 83,
     "metadata": {},
     "output_type": "execute_result"
    }
   ],
   "source": [
    "\"milk\" in groceries"
   ]
  },
  {
   "cell_type": "code",
   "execution_count": 84,
   "id": "6bc5c139-7515-4332-8021-4c41ffcd48c2",
   "metadata": {},
   "outputs": [
    {
     "data": {
      "text/plain": [
       "False"
      ]
     },
     "execution_count": 84,
     "metadata": {},
     "output_type": "execute_result"
    }
   ],
   "source": [
    "\"hot sauce\" in groceries"
   ]
  },
  {
   "cell_type": "code",
   "execution_count": 85,
   "id": "aee81057-0cca-45df-9145-34c83403223e",
   "metadata": {},
   "outputs": [
    {
     "data": {
      "text/plain": [
       "'yogurt'"
      ]
     },
     "execution_count": 85,
     "metadata": {},
     "output_type": "execute_result"
    }
   ],
   "source": [
    "groceries.pop() # poping a random element"
   ]
  },
  {
   "cell_type": "code",
   "execution_count": 86,
   "id": "20699e3a-acf7-4cc5-a74c-ddd624ea73ab",
   "metadata": {},
   "outputs": [
    {
     "data": {
      "text/plain": [
       "{'cheese', 'milk'}"
      ]
     },
     "execution_count": 86,
     "metadata": {},
     "output_type": "execute_result"
    }
   ],
   "source": [
    "groceries"
   ]
  },
  {
   "cell_type": "code",
   "execution_count": 87,
   "id": "b2e79695-e120-46f6-989f-954c299e6b24",
   "metadata": {},
   "outputs": [
    {
     "data": {
      "text/plain": [
       "{'cheese', 'milk', 'pizza'}"
      ]
     },
     "execution_count": 87,
     "metadata": {},
     "output_type": "execute_result"
    }
   ],
   "source": [
    "groceries.add(\"pizza\")\n",
    "groceries"
   ]
  },
  {
   "cell_type": "code",
   "execution_count": 88,
   "id": "5a725fe7-82ae-4270-92e9-63feb87fa668",
   "metadata": {},
   "outputs": [
    {
     "name": "stdout",
     "output_type": "stream",
     "text": [
      "cheese\n",
      "milk\n",
      "pizza\n"
     ]
    }
   ],
   "source": [
    "for item in groceries:\n",
    "    print(item)"
   ]
  },
  {
   "cell_type": "code",
   "execution_count": 89,
   "id": "07b5468a-88fd-4eca-8740-a213f7e16520",
   "metadata": {},
   "outputs": [
    {
     "ename": "TypeError",
     "evalue": "'set' object is not subscriptable",
     "output_type": "error",
     "traceback": [
      "\u001b[0;31m---------------------------------------------------------------------------\u001b[0m",
      "\u001b[0;31mTypeError\u001b[0m                                 Traceback (most recent call last)",
      "Cell \u001b[0;32mIn[89], line 1\u001b[0m\n\u001b[0;32m----> 1\u001b[0m \u001b[43mgroceries\u001b[49m\u001b[43m[\u001b[49m\u001b[38;5;241;43m0\u001b[39;49m\u001b[43m]\u001b[49m \u001b[38;5;66;03m# error\u001b[39;00m\n",
      "\u001b[0;31mTypeError\u001b[0m: 'set' object is not subscriptable"
     ]
    }
   ],
   "source": [
    "groceries[0] # error"
   ]
  },
  {
   "cell_type": "code",
   "execution_count": 90,
   "id": "bb72f740-dfc9-4625-b486-b98b830cd127",
   "metadata": {},
   "outputs": [
    {
     "data": {
      "text/plain": [
       "{'pizza'}"
      ]
     },
     "execution_count": 90,
     "metadata": {},
     "output_type": "execute_result"
    }
   ],
   "source": [
    "treats = {\"pizza\", \"ice cream\", \"popcorn\"}\n",
    "groceries & treats"
   ]
  },
  {
   "cell_type": "code",
   "execution_count": 91,
   "id": "dc69df67-b3ff-4ba2-a54b-80d09c2455d9",
   "metadata": {},
   "outputs": [
    {
     "data": {
      "text/plain": [
       "{'cheese', 'ice cream', 'milk', 'pizza', 'popcorn'}"
      ]
     },
     "execution_count": 91,
     "metadata": {},
     "output_type": "execute_result"
    }
   ],
   "source": [
    "groceries | treats"
   ]
  },
  {
   "cell_type": "code",
   "execution_count": 92,
   "id": "8499ca3c-2c4c-4492-b4b4-5f867a82e8d6",
   "metadata": {},
   "outputs": [
    {
     "data": {
      "text/plain": [
       "{'cheese', 'milk'}"
      ]
     },
     "execution_count": 92,
     "metadata": {},
     "output_type": "execute_result"
    }
   ],
   "source": [
    "# whats on left set but not right set\n",
    "groceries - treats"
   ]
  },
  {
   "cell_type": "code",
   "execution_count": 93,
   "id": "d7f5eaa6-7f9a-4161-abcf-677e91adc189",
   "metadata": {},
   "outputs": [
    {
     "data": {
      "text/plain": [
       "True"
      ]
     },
     "execution_count": 93,
     "metadata": {},
     "output_type": "execute_result"
    }
   ],
   "source": [
    "# containment using <, <=, >=, >\n",
    "{\"cheese\", \"milk\"} < groceries"
   ]
  },
  {
   "cell_type": "code",
   "execution_count": 94,
   "id": "c550b4ce-e6d9-4fa9-bad3-34d5f8c93cc9",
   "metadata": {},
   "outputs": [
    {
     "data": {
      "text/plain": [
       "False"
      ]
     },
     "execution_count": 94,
     "metadata": {},
     "output_type": "execute_result"
    }
   ],
   "source": [
    "groceries < groceries"
   ]
  },
  {
   "cell_type": "code",
   "execution_count": 95,
   "id": "3e31c29d-7010-4660-96e5-f8525b642bb6",
   "metadata": {},
   "outputs": [
    {
     "data": {
      "text/plain": [
       "True"
      ]
     },
     "execution_count": 95,
     "metadata": {},
     "output_type": "execute_result"
    }
   ],
   "source": [
    "groceries <= groceries"
   ]
  },
  {
   "cell_type": "code",
   "execution_count": 96,
   "id": "fcaae7ca-f2a4-4c45-ac82-5aa6f23aa420",
   "metadata": {},
   "outputs": [
    {
     "data": {
      "text/plain": [
       "True"
      ]
     },
     "execution_count": 96,
     "metadata": {},
     "output_type": "execute_result"
    }
   ],
   "source": [
    "treats > {\"pizza\"}"
   ]
  },
  {
   "cell_type": "code",
   "execution_count": 97,
   "id": "411a128a-20cc-447f-a127-6151e98d13cc",
   "metadata": {},
   "outputs": [
    {
     "data": {
      "text/plain": [
       "False"
      ]
     },
     "execution_count": 97,
     "metadata": {},
     "output_type": "execute_result"
    }
   ],
   "source": [
    "treats >= {\"pizza\", \"cheese\"}"
   ]
  },
  {
   "cell_type": "code",
   "execution_count": 98,
   "id": "55cfddf1-3a19-4e5e-b376-141f01f96701",
   "metadata": {},
   "outputs": [
    {
     "data": {
      "text/plain": [
       "frozenset({'cheese', 'milk', 'pizza'})"
      ]
     },
     "execution_count": 98,
     "metadata": {},
     "output_type": "execute_result"
    }
   ],
   "source": [
    "frozenset(groceries)"
   ]
  },
  {
   "cell_type": "code",
   "execution_count": 99,
   "id": "a94040af-c54a-466e-a951-1b17c46d58f3",
   "metadata": {},
   "outputs": [
    {
     "data": {
      "text/plain": [
       "frozenset({'cheese', 'milk', 'pizza'})"
      ]
     },
     "execution_count": 99,
     "metadata": {},
     "output_type": "execute_result"
    }
   ],
   "source": [
    "frozenset([\"cheese\", \"milk\", \"pizza\"])"
   ]
  },
  {
   "cell_type": "code",
   "execution_count": 100,
   "id": "5cc18683-8b2a-46fd-9ac0-06f8b0dcd6e5",
   "metadata": {},
   "outputs": [
    {
     "ename": "AttributeError",
     "evalue": "'frozenset' object has no attribute 'add'",
     "output_type": "error",
     "traceback": [
      "\u001b[0;31m---------------------------------------------------------------------------\u001b[0m",
      "\u001b[0;31mAttributeError\u001b[0m                            Traceback (most recent call last)",
      "Cell \u001b[0;32mIn[100], line 2\u001b[0m\n\u001b[1;32m      1\u001b[0m groceries_ \u001b[38;5;241m=\u001b[39m \u001b[38;5;28mfrozenset\u001b[39m(groceries)\n\u001b[0;32m----> 2\u001b[0m \u001b[43mgroceries_\u001b[49m\u001b[38;5;241;43m.\u001b[39;49m\u001b[43madd\u001b[49m(\u001b[38;5;124m\"\u001b[39m\u001b[38;5;124mmushrooms\u001b[39m\u001b[38;5;124m\"\u001b[39m) \u001b[38;5;66;03m# error\u001b[39;00m\n",
      "\u001b[0;31mAttributeError\u001b[0m: 'frozenset' object has no attribute 'add'"
     ]
    }
   ],
   "source": [
    "groceries_ = frozenset(groceries)\n",
    "groceries_.add(\"mushrooms\") # error"
   ]
  },
  {
   "cell_type": "code",
   "execution_count": 102,
   "id": "0b75c91c-d541-4b6e-885d-3fe34f50db17",
   "metadata": {},
   "outputs": [
    {
     "data": {
      "text/plain": [
       "{'[1, 2, 3]': 69}"
      ]
     },
     "execution_count": 102,
     "metadata": {},
     "output_type": "execute_result"
    }
   ],
   "source": [
    "d = {}\n",
    "d[str([1,2,3])] = 69\n",
    "d"
   ]
  },
  {
   "cell_type": "code",
   "execution_count": 104,
   "id": "189af12c-ab63-49bb-b735-fffaaeb3da53",
   "metadata": {},
   "outputs": [
    {
     "ename": "TypeError",
     "evalue": "unhashable type: 'set'",
     "output_type": "error",
     "traceback": [
      "\u001b[0;31m---------------------------------------------------------------------------\u001b[0m",
      "\u001b[0;31mTypeError\u001b[0m                                 Traceback (most recent call last)",
      "Cell \u001b[0;32mIn[104], line 3\u001b[0m\n\u001b[1;32m      1\u001b[0m \u001b[38;5;66;03m# a set cannot be a dictionary key but frozenset can:\u001b[39;00m\n\u001b[1;32m      2\u001b[0m d \u001b[38;5;241m=\u001b[39m {}\n\u001b[0;32m----> 3\u001b[0m \u001b[43md\u001b[49m\u001b[43m[\u001b[49m\u001b[43mgroceries\u001b[49m\u001b[43m]\u001b[49m \u001b[38;5;241m=\u001b[39m \u001b[38;5;241m42\u001b[39m\n",
      "\u001b[0;31mTypeError\u001b[0m: unhashable type: 'set'"
     ]
    }
   ],
   "source": [
    "# a set cannot be a dictionary key but frozenset can:\n",
    "d = {}\n",
    "d[groceries] = 42 # error"
   ]
  },
  {
   "cell_type": "code",
   "execution_count": 105,
   "id": "ed1c91ad-96b3-4b3f-8fcc-31c290cc0a4c",
   "metadata": {},
   "outputs": [
    {
     "data": {
      "text/plain": [
       "{frozenset({'cheese', 'milk', 'pizza'}): 42}"
      ]
     },
     "execution_count": 105,
     "metadata": {},
     "output_type": "execute_result"
    }
   ],
   "source": [
    "d = {}\n",
    "d[frozenset(groceries)] = 42\n",
    "d"
   ]
  },
  {
   "cell_type": "code",
   "execution_count": 106,
   "id": "5f5b7b4e-b475-43b0-b0f0-7aab68e2e46a",
   "metadata": {},
   "outputs": [
    {
     "data": {
      "text/plain": [
       "'abcdefghijklmnopqrstuvwxyzABCDEFGHIJKLMNOPQRSTUVWXYZ'"
      ]
     },
     "execution_count": 106,
     "metadata": {},
     "output_type": "execute_result"
    }
   ],
   "source": [
    "import string\n",
    "string.ascii_letters"
   ]
  },
  {
   "cell_type": "code",
   "execution_count": 107,
   "id": "a437f6ac-97f2-4991-a604-aabe6ae95193",
   "metadata": {},
   "outputs": [
    {
     "data": {
      "text/plain": [
       "'0123456789'"
      ]
     },
     "execution_count": 107,
     "metadata": {},
     "output_type": "execute_result"
    }
   ],
   "source": [
    "string.digits"
   ]
  },
  {
   "cell_type": "code",
   "execution_count": 111,
   "id": "25ce30e0-1b1b-477c-b10e-304ca28b9b7f",
   "metadata": {},
   "outputs": [],
   "source": [
    "_ASCII_ID_CHARS = frozenset(string.ascii_letters + string.digits + \"_\")"
   ]
  },
  {
   "cell_type": "code",
   "execution_count": 109,
   "id": "ea661a19-fbde-4d3d-aeef-0c5cc3567a28",
   "metadata": {},
   "outputs": [],
   "source": [
    "_ASCII_ID_FIRST_CHARS = frozenset(string.ascii_letters + \"_\")"
   ]
  },
  {
   "cell_type": "code",
   "execution_count": 112,
   "id": "5e3c4ba5-30fc-48e5-b93d-19fdfcc3d4c9",
   "metadata": {},
   "outputs": [],
   "source": [
    "_IS_ASCII_ID_CHAR = [(chr(x) in _ASCII_ID_CHARS) for x in range(128)]"
   ]
  },
  {
   "cell_type": "code",
   "execution_count": 114,
   "id": "96953e75-b457-46b1-8602-b393755c54f2",
   "metadata": {},
   "outputs": [],
   "source": [
    "_IS_ASCII_ID_FIRST_CHAR = [(chr(x) in _ASCII_ID_FIRST_CHARS) for x in range(128)]"
   ]
  },
  {
   "cell_type": "code",
   "execution_count": 116,
   "id": "9204aa36-c8a4-4980-96e5-6ad7d6fa615c",
   "metadata": {},
   "outputs": [
    {
     "data": {
      "text/plain": [
       "[0, 1, 4, 9, 16, 25, 36, 49, 64, 81]"
      ]
     },
     "execution_count": 116,
     "metadata": {},
     "output_type": "execute_result"
    }
   ],
   "source": [
    "squares = [num ** 2 for num in range(10)]\n",
    "squares"
   ]
  },
  {
   "cell_type": "code",
   "execution_count": 124,
   "id": "422c5d4c-0b36-4ec3-8582-dd6619d648f0",
   "metadata": {},
   "outputs": [
    {
     "data": {
      "text/plain": [
       "['BANANA', 'PEAR', 'STRAWBERRY', 'TOMATO']"
      ]
     },
     "execution_count": 124,
     "metadata": {},
     "output_type": "execute_result"
    }
   ],
   "source": [
    "fruits = \"banana pear strawberry tomato\".split()\n",
    "[fruit.upper() for fruit in fruits]"
   ]
  },
  {
   "cell_type": "code",
   "execution_count": 125,
   "id": "fc3bb725-38d3-46ac-8ca1-2dad8f9beb97",
   "metadata": {},
   "outputs": [
    {
     "data": {
      "text/plain": [
       "[3, 5, 5, 3, 5, 4, 2, 4, 4]"
      ]
     },
     "execution_count": 125,
     "metadata": {},
     "output_type": "execute_result"
    }
   ],
   "source": [
    "words = \"The quick brown fox jumps over 13 lazy dogs\".split()\n",
    "[len(word) for word in words]"
   ]
  },
  {
   "cell_type": "code",
   "execution_count": 127,
   "id": "4bc98c69-8bb6-4c71-8e90-62edcdabf778",
   "metadata": {},
   "outputs": [
    {
     "data": {
      "text/plain": [
       "[0, 9, 25, 36, 81]"
      ]
     },
     "execution_count": 127,
     "metadata": {},
     "output_type": "execute_result"
    }
   ],
   "source": [
    "fizz_buzz_squares = [\n",
    "    num ** 2\n",
    "    for num in range(10)\n",
    "    if (num % 3 == 0) or (num % 5 == 0)\n",
    "]\n",
    "fizz_buzz_squares"
   ]
  },
  {
   "cell_type": "code",
   "execution_count": 129,
   "id": "a5cbf4e9-ab7f-4d17-b735-bae5d7732fac",
   "metadata": {},
   "outputs": [
    {
     "data": {
      "text/plain": [
       "['PEAR', 'STRAWBERRY', 'TOMATO']"
      ]
     },
     "execution_count": 129,
     "metadata": {},
     "output_type": "execute_result"
    }
   ],
   "source": [
    "fruits = \"Banana pear PEACH strawberry tomato\".split()\n",
    "[fruit.upper() for fruit in fruits if fruit.islower()]"
   ]
  },
  {
   "cell_type": "code",
   "execution_count": 130,
   "id": "83939667-99bd-48c5-8f25-7a0e4d8bc8b4",
   "metadata": {},
   "outputs": [
    {
     "data": {
      "text/plain": [
       "[5, 3, 4, 4]"
      ]
     },
     "execution_count": 130,
     "metadata": {},
     "output_type": "execute_result"
    }
   ],
   "source": [
    "words = \"The quick brown fox jumps over 13 lazy dogs\".split()\n",
    "[len(word) for word in words if \"o\" in word]"
   ]
  },
  {
   "cell_type": "code",
   "execution_count": 140,
   "id": "c671a978-f69f-4ff7-ab2a-faf717aa30f9",
   "metadata": {},
   "outputs": [
    {
     "name": "stdout",
     "output_type": "stream",
     "text": [
      "[1, 2, 3, 4, 5, 6, 7, 8, 9]\n"
     ]
    }
   ],
   "source": [
    "from itertools import chain\n",
    "\n",
    "# nested_lists = [[1, 2, 3], [4, 5, 6], [3, [3, [32]], [[2]]], [7, 8, 9]]\n",
    "nested_lists = [[1, 2, 3], [4, 5, 6], [7, 8, 9]]\n",
    "flat = chain.from_iterable(nested_lists)\n",
    "print(list(flat))"
   ]
  },
  {
   "cell_type": "code",
   "execution_count": 150,
   "id": "0e727329-555a-4360-b7a0-34476b7208ca",
   "metadata": {},
   "outputs": [
    {
     "data": {
      "text/plain": [
       "(18, 171, 96)"
      ]
     },
     "execution_count": 150,
     "metadata": {},
     "output_type": "execute_result"
    }
   ],
   "source": [
    "# random RGB\n",
    "from random import randint\n",
    "\n",
    "color = [randint(0, 255) for _ in range(3)]\n",
    "tuple(color)"
   ]
  },
  {
   "cell_type": "code",
   "execution_count": 155,
   "id": "b285383a-4304-4eb8-9a3f-ef40bf75700a",
   "metadata": {},
   "outputs": [
    {
     "data": {
      "text/plain": [
       "'       python       '"
      ]
     },
     "execution_count": 155,
     "metadata": {},
     "output_type": "execute_result"
    }
   ],
   "source": [
    "\"{:^20}\".format(\"python\")"
   ]
  },
  {
   "cell_type": "code",
   "execution_count": 156,
   "id": "70ca0961-dad5-4545-a566-a772ce03decb",
   "metadata": {},
   "outputs": [
    {
     "data": {
      "text/plain": [
       "'python              '"
      ]
     },
     "execution_count": 156,
     "metadata": {},
     "output_type": "execute_result"
    }
   ],
   "source": [
    "\"{:20}\".format(\"python\")"
   ]
  },
  {
   "cell_type": "code",
   "execution_count": 158,
   "id": "00c8715c-f528-4b9e-aa39-806b49e93bbc",
   "metadata": {},
   "outputs": [
    {
     "data": {
      "text/plain": [
       "'              python'"
      ]
     },
     "execution_count": 158,
     "metadata": {},
     "output_type": "execute_result"
    }
   ],
   "source": [
    "\"{:>20}\".format(\"python\")"
   ]
  },
  {
   "cell_type": "code",
   "execution_count": 159,
   "id": "2d3b2467-7767-4f07-9508-e2acd7661478",
   "metadata": {},
   "outputs": [
    {
     "data": {
      "text/plain": [
       "'Mathias is 21 years old.'"
      ]
     },
     "execution_count": 159,
     "metadata": {},
     "output_type": "execute_result"
    }
   ],
   "source": [
    "data = {\"name\": \"Mathias\", \"age\": 21}\n",
    "\"{name} is {age} years old.\".format(**data)"
   ]
  },
  {
   "cell_type": "code",
   "execution_count": 170,
   "id": "eb95cf4c-9608-427a-afec-af3c50262fc1",
   "metadata": {},
   "outputs": [
    {
     "name": "stdout",
     "output_type": "stream",
     "text": [
      "       Tesla | USA      \n",
      " Lamborghini | Italy    \n",
      "    infiniti | Japanese \n"
     ]
    }
   ],
   "source": [
    "data = [(\"Tesla\", \"USA\"), (\"Lamborghini\", \"Italy\"), (\"infiniti\", \"Japanese\")]\n",
    "brandWidth = 1 + max(len(brand) for brand, _ in data)\n",
    "countryWidth = 1 + max(len(country) for _, country in data)\n",
    "\n",
    "for brand, country in data:\n",
    "    print(f\"{brand:>{brandWidth}} | {country:<{countryWidth}}\")"
   ]
  },
  {
   "cell_type": "code",
   "execution_count": 171,
   "id": "c2f455ab-06c5-4042-8798-cac8677e3864",
   "metadata": {},
   "outputs": [
    {
     "name": "stdout",
     "output_type": "stream",
     "text": [
      "3\n"
     ]
    },
    {
     "data": {
      "text/plain": [
       "3"
      ]
     },
     "execution_count": 171,
     "metadata": {},
     "output_type": "execute_result"
    }
   ],
   "source": [
    "print(b := 3)\n",
    "b"
   ]
  },
  {
   "cell_type": "code",
   "execution_count": 174,
   "id": "1012d688-eb44-41a5-8b13-acae05d599be",
   "metadata": {},
   "outputs": [
    {
     "name": "stdout",
     "output_type": "stream",
     "text": [
      "5\n",
      "5\n"
     ]
    }
   ],
   "source": [
    "# not sure I like this re-write:\n",
    "def trailing_zeros(n):\n",
    "    s = str(n)\n",
    "    return len(s) - len(s.rstrip('0'))\n",
    "print(trailing_zeros(900000))\n",
    "\n",
    "def trailing_zeros_walrus(n):\n",
    "    return len(s := str(n)) - len(s.rstrip('0'))\n",
    "print(trailing_zeros_walrus(900000))"
   ]
  },
  {
   "cell_type": "code",
   "execution_count": 181,
   "id": "071cd6ab-677e-4ef0-b737-20156d84ac89",
   "metadata": {},
   "outputs": [],
   "source": [
    "# WATCH OUT don't compute twice!\n",
    "from math import factorial as fact\n",
    "\n",
    "l = [3, 17, 89, 15, 58, 193]\n",
    "facts = [fact(num) for num in l if trailing_zeros(fact(num)) > 50]"
   ]
  },
  {
   "cell_type": "code",
   "execution_count": 182,
   "id": "b53595c2-2bfd-4624-b733-b50aae0f5475",
   "metadata": {},
   "outputs": [],
   "source": [
    "facts = [f for num in l if trailing_zeros(f := fact(num)) > 50]"
   ]
  },
  {
   "cell_type": "code",
   "execution_count": 183,
   "id": "a0e1545d-58c9-4078-acc6-896c3c38521a",
   "metadata": {},
   "outputs": [],
   "source": [
    "facts = [fact(num) for num in l]\n",
    "facts = [num for num in facts if trailing_zeros(num) > 50]\n",
    "\n",
    "# alt (more memory efficient, only computes as they are needed)\n",
    "facts = [num for num in map(fact, l) if trailing_zeros(num) > 50]"
   ]
  },
  {
   "cell_type": "code",
   "execution_count": 185,
   "id": "7ab6c8da-1203-42e0-97a4-4877bb9df75e",
   "metadata": {},
   "outputs": [
    {
     "name": "stdin",
     "output_type": "stream",
     "text": [
      "Your contact info: >>  email@email.com\n"
     ]
    },
    {
     "name": "stdout",
     "output_type": "stream",
     "text": [
      "Your email is email@email.com\n"
     ]
    }
   ],
   "source": [
    "import re\n",
    "\n",
    "string = input(\"Your contact info: >> \")\n",
    "email = re.search(r\"\\b(\\w+@\\w+\\.com)\\b\", string)\n",
    "if email:\n",
    "    print(f\"Your email is {email.group(1)}\")\n",
    "else:\n",
    "    phone = re.search(r\"\\d{9}\", string)\n",
    "    if phone:\n",
    "        print(f\"Your phone is {phone.group(0)}\")\n",
    "    else:\n",
    "        print(\"No info found...\")"
   ]
  },
  {
   "cell_type": "code",
   "execution_count": 186,
   "id": "6606c785-846c-40a9-ac13-8ba924e40468",
   "metadata": {},
   "outputs": [
    {
     "name": "stdin",
     "output_type": "stream",
     "text": [
      "Your contact info: >>  3108889999\n"
     ]
    },
    {
     "name": "stdout",
     "output_type": "stream",
     "text": [
      "Your phone is 310888999\n"
     ]
    }
   ],
   "source": [
    "# slightly better than the above:\n",
    "import re\n",
    "string = input(\"Your contact info: >> \")\n",
    "if email := re.search(r\"\\b(\\w+@\\w+\\.com)\\b\", string):\n",
    "    print(f\"Your email is {email.group(1)}\")\n",
    "elif phone := re.search(r\"\\d{9}\", string):\n",
    "    print(f\"Your phone is {phone.group(0)}\")\n",
    "else:\n",
    "    print(\"No info found...\")"
   ]
  },
  {
   "cell_type": "code",
   "execution_count": 187,
   "id": "986a2a3e-fdb9-4162-9d41-3f8a5be55db3",
   "metadata": {},
   "outputs": [
    {
     "data": {
      "text/plain": [
       "65"
      ]
     },
     "execution_count": 187,
     "metadata": {},
     "output_type": "execute_result"
    }
   ],
   "source": [
    "ord(\"A\")"
   ]
  },
  {
   "cell_type": "code",
   "execution_count": 188,
   "id": "0726adb9-636c-4d1e-b8a7-5e85d7a29b72",
   "metadata": {},
   "outputs": [
    {
     "data": {
      "text/plain": [
       "'A'"
      ]
     },
     "execution_count": 188,
     "metadata": {},
     "output_type": "execute_result"
    }
   ],
   "source": [
    "chr(65)"
   ]
  },
  {
   "cell_type": "code",
   "execution_count": 189,
   "id": "8a2d7814-fa2e-423e-bafa-530060678d6b",
   "metadata": {},
   "outputs": [
    {
     "data": {
      "text/plain": [
       "(97, 98, 99)"
      ]
     },
     "execution_count": 189,
     "metadata": {},
     "output_type": "execute_result"
    }
   ],
   "source": [
    "ord(\"a\"), ord(\"b\"), ord(\"c\")"
   ]
  },
  {
   "cell_type": "code",
   "execution_count": 190,
   "id": "33d775f5-7b9b-46c6-a6b8-88548f128c5d",
   "metadata": {},
   "outputs": [
    {
     "data": {
      "text/plain": [
       "'AAA BBBBBBBBB '"
      ]
     },
     "execution_count": 190,
     "metadata": {},
     "output_type": "execute_result"
    }
   ],
   "source": [
    "\"aaa bbb ccc\".translate(\n",
    "    {97: 65, 98: \"BBB\", 99: None}\n",
    ")"
   ]
  },
  {
   "cell_type": "code",
   "execution_count": 191,
   "id": "d7b7acff-fcb9-4650-885c-a12fac786eed",
   "metadata": {},
   "outputs": [
    {
     "data": {
      "text/plain": [
       "'Hey, AAA BBBBBBBBB , how Are you?'"
      ]
     },
     "execution_count": 191,
     "metadata": {},
     "output_type": "execute_result"
    }
   ],
   "source": [
    "\"Hey, aaa bbb ccc, how are you?\".translate(\n",
    "    {97: 65, 98: \"BBB\", 99: None}\n",
    ")"
   ]
  },
  {
   "cell_type": "code",
   "execution_count": 193,
   "id": "ddb608b0-6a9a-4e44-9e66-71b1c607e11f",
   "metadata": {},
   "outputs": [
    {
     "data": {
      "text/plain": [
       "'Hey, AAA BBBBBBBBB , how Are you?'"
      ]
     },
     "execution_count": 193,
     "metadata": {},
     "output_type": "execute_result"
    }
   ],
   "source": [
    "# this does the same (don't use: successive calls are independent from one another)\n",
    "s = \"Hey, aaa bbb ccc, how are you?\"\n",
    "from_ = \"abc\"\n",
    "to_ = [\"A\", \"BBB\", \"\"]\n",
    "for f, t in zip(from_, to_):\n",
    "    s = s.replace(f, t)\n",
    "s"
   ]
  },
  {
   "cell_type": "code",
   "execution_count": 194,
   "id": "e5b531f7-adba-4594-a56e-02ec7ad8af4a",
   "metadata": {},
   "outputs": [
    {
     "data": {
      "text/plain": [
       "'000000000000000'"
      ]
     },
     "execution_count": 194,
     "metadata": {},
     "output_type": "execute_result"
    }
   ],
   "source": [
    "# this won't work:\n",
    "s = \"001011010101001\"\n",
    "from_ = \"01\"\n",
    "to_ = \"10\"\n",
    "for f, t in zip(from_, to_):\n",
    "    s = s.replace(f, t)\n",
    "s"
   ]
  },
  {
   "cell_type": "code",
   "execution_count": 195,
   "id": "e1721ba3-5a06-4f95-a21c-3cd5d46c626f",
   "metadata": {},
   "outputs": [
    {
     "data": {
      "text/plain": [
       "'110100101010110'"
      ]
     },
     "execution_count": 195,
     "metadata": {},
     "output_type": "execute_result"
    }
   ],
   "source": [
    "\"001011010101001\".translate(\n",
    "    {ord(\"0\"): \"1\", ord(\"1\"): \"0\"}\n",
    ")"
   ]
  },
  {
   "cell_type": "code",
   "execution_count": 196,
   "id": "5e76924b-6b32-42d6-9412-c34a49acc449",
   "metadata": {},
   "outputs": [],
   "source": [
    "translation_table = [i for i in range(91)]\n",
    "for l in \"ABCDEFGHIJKLMNOPQRSTUVWXYZ\":\n",
    "    translation_table[ord(l)] = 2 * l.lower()"
   ]
  },
  {
   "cell_type": "code",
   "execution_count": 197,
   "id": "ba98e52a-5222-4211-bd78-aa5fce8656ca",
   "metadata": {},
   "outputs": [
    {
     "data": {
      "text/plain": [
       "[60, 61, 62, 63, 64, 'aa', 'bb', 'cc', 'dd', 'ee']"
      ]
     },
     "execution_count": 197,
     "metadata": {},
     "output_type": "execute_result"
    }
   ],
   "source": [
    "translation_table[60:70]"
   ]
  },
  {
   "cell_type": "code",
   "execution_count": 198,
   "id": "b19ca9ef-a040-482f-9a48-5a2aee04383d",
   "metadata": {},
   "outputs": [
    {
     "data": {
      "text/plain": [
       "[0,\n",
       " 1,\n",
       " 2,\n",
       " 3,\n",
       " 4,\n",
       " 5,\n",
       " 6,\n",
       " 7,\n",
       " 8,\n",
       " 9,\n",
       " 10,\n",
       " 11,\n",
       " 12,\n",
       " 13,\n",
       " 14,\n",
       " 15,\n",
       " 16,\n",
       " 17,\n",
       " 18,\n",
       " 19,\n",
       " 20,\n",
       " 21,\n",
       " 22,\n",
       " 23,\n",
       " 24,\n",
       " 25,\n",
       " 26,\n",
       " 27,\n",
       " 28,\n",
       " 29,\n",
       " 30,\n",
       " 31,\n",
       " 32,\n",
       " 33,\n",
       " 34,\n",
       " 35,\n",
       " 36,\n",
       " 37,\n",
       " 38,\n",
       " 39,\n",
       " 40,\n",
       " 41,\n",
       " 42,\n",
       " 43,\n",
       " 44,\n",
       " 45,\n",
       " 46,\n",
       " 47,\n",
       " 48,\n",
       " 49,\n",
       " 50,\n",
       " 51,\n",
       " 52,\n",
       " 53,\n",
       " 54,\n",
       " 55,\n",
       " 56,\n",
       " 57,\n",
       " 58,\n",
       " 59,\n",
       " 60,\n",
       " 61,\n",
       " 62,\n",
       " 63,\n",
       " 64,\n",
       " 'aa',\n",
       " 'bb',\n",
       " 'cc',\n",
       " 'dd',\n",
       " 'ee',\n",
       " 'ff',\n",
       " 'gg',\n",
       " 'hh',\n",
       " 'ii',\n",
       " 'jj',\n",
       " 'kk',\n",
       " 'll',\n",
       " 'mm',\n",
       " 'nn',\n",
       " 'oo',\n",
       " 'pp',\n",
       " 'qq',\n",
       " 'rr',\n",
       " 'ss',\n",
       " 'tt',\n",
       " 'uu',\n",
       " 'vv',\n",
       " 'ww',\n",
       " 'xx',\n",
       " 'yy',\n",
       " 'zz']"
      ]
     },
     "execution_count": 198,
     "metadata": {},
     "output_type": "execute_result"
    }
   ],
   "source": [
    "translation_table"
   ]
  },
  {
   "cell_type": "code",
   "execution_count": 199,
   "id": "5730c604-db2d-4e2e-8cb5-d061e41c11f5",
   "metadata": {},
   "outputs": [
    {
     "data": {
      "text/plain": [
       "\"hhey, what's uupp?\""
      ]
     },
     "execution_count": 199,
     "metadata": {},
     "output_type": "execute_result"
    }
   ],
   "source": [
    "\"Hey, what's UP?\".translate(translation_table)"
   ]
  },
  {
   "cell_type": "code",
   "execution_count": 200,
   "id": "449b1da7-986f-4bf9-ae6d-4fd8cc0e9112",
   "metadata": {},
   "outputs": [
    {
     "data": {
      "text/plain": [
       "'ABCDEFGHIJKLMNOPQRSTUVWXYZ'"
      ]
     },
     "execution_count": 200,
     "metadata": {},
     "output_type": "execute_result"
    }
   ],
   "source": [
    "from string import ascii_uppercase\n",
    "ascii_uppercase"
   ]
  },
  {
   "cell_type": "code",
   "execution_count": 202,
   "id": "43831963-7a02-46de-96a4-8c212fc99fec",
   "metadata": {},
   "outputs": [
    {
     "data": {
      "text/plain": [
       "[60, 61, 62, 63, 64, 'aa', 'bb', 'cc', 'dd', 'ee']"
      ]
     },
     "execution_count": 202,
     "metadata": {},
     "output_type": "execute_result"
    }
   ],
   "source": [
    "for l in ascii_uppercase:\n",
    "    translation_table[ord(l)] = 2 * l.lower()\n",
    "\n",
    "translation_table[60:70]"
   ]
  },
  {
   "cell_type": "code",
   "execution_count": 203,
   "id": "6ea6d716-700b-4639-bd82-13fe122cb7b3",
   "metadata": {},
   "outputs": [
    {
     "data": {
      "text/plain": [
       "'110100101010110'"
      ]
     },
     "execution_count": 203,
     "metadata": {},
     "output_type": "execute_result"
    }
   ],
   "source": [
    "\"001011010101001\".translate(\n",
    "    str.maketrans({\"0\": \"1\", \"1\": \"0\"})\n",
    ")"
   ]
  },
  {
   "cell_type": "code",
   "execution_count": 204,
   "id": "08f689d9-0b21-4bbc-b9a0-51b5926307ac",
   "metadata": {},
   "outputs": [
    {
     "data": {
      "text/plain": [
       "'110100101010110'"
      ]
     },
     "execution_count": 204,
     "metadata": {},
     "output_type": "execute_result"
    }
   ],
   "source": [
    "\"001011010101001\".translate(\n",
    "    str.maketrans(\"01\", \"10\")\n",
    ")"
   ]
  },
  {
   "cell_type": "code",
   "execution_count": 205,
   "id": "80ab183a-4afa-41ab-9d44-0e1b351fd87a",
   "metadata": {},
   "outputs": [
    {
     "data": {
      "text/plain": [
       "'#0F45CD'"
      ]
     },
     "execution_count": 205,
     "metadata": {},
     "output_type": "execute_result"
    }
   ],
   "source": [
    "\"#0F45cd\".translate(\n",
    "    str.maketrans(\"abcdef\", \"ABCDEF\")\n",
    ")"
   ]
  },
  {
   "cell_type": "code",
   "execution_count": 206,
   "id": "c4399415-99f2-4d8f-a776-426764d6caf9",
   "metadata": {},
   "outputs": [
    {
     "data": {
      "text/plain": [
       "'0F45CD'"
      ]
     },
     "execution_count": 206,
     "metadata": {},
     "output_type": "execute_result"
    }
   ],
   "source": [
    "\"# 0F45cd\".translate(\n",
    "    str.maketrans(\"abcdef\", \"ABCDEF\", \"# \") # if using third argument it removes or replaces with None\n",
    ")"
   ]
  },
  {
   "cell_type": "code",
   "execution_count": 207,
   "id": "9984427a-261a-433a-9a34-98ca208a8252",
   "metadata": {},
   "outputs": [],
   "source": [
    "# ceasar cipher\n",
    "from string import ascii_uppercase\n",
    "\n",
    "ABC = ascii_uppercase\n",
    "def ceasar(msg, key):\n",
    "    return msg.translate(\n",
    "        str.maketrans(ABC, ABC[key:] + ABC[:key])\n",
    "    )"
   ]
  },
  {
   "cell_type": "code",
   "execution_count": 208,
   "id": "afda9044-daab-4024-b9ff-398423f1e2d5",
   "metadata": {},
   "outputs": [
    {
     "data": {
      "text/plain": [
       "'OLSSV, DVYSK'"
      ]
     },
     "execution_count": 208,
     "metadata": {},
     "output_type": "execute_result"
    }
   ],
   "source": [
    "ceasar(\"HELLO, WORLD\", 7)"
   ]
  },
  {
   "cell_type": "code",
   "execution_count": 212,
   "id": "865628a8-7f93-4b59-b105-9a6df79c21bc",
   "metadata": {},
   "outputs": [
    {
     "data": {
      "text/plain": [
       "{58: 95, 60: 95, 62: 95, 124: 95, 34: 95, 63: 95, 42: 95}"
      ]
     },
     "execution_count": 212,
     "metadata": {},
     "output_type": "execute_result"
    }
   ],
   "source": [
    "illegal = ':<>|\"?*'\n",
    "table = str.maketrans(illegal, '_' * len(illegal))\n",
    "table"
   ]
  },
  {
   "cell_type": "code",
   "execution_count": 213,
   "id": "1a5f46ed-ed32-4119-b488-a80d2b659742",
   "metadata": {},
   "outputs": [
    {
     "data": {
      "text/plain": [
       "{'a': 42, 'b': 42, 'c': 42}"
      ]
     },
     "execution_count": 213,
     "metadata": {},
     "output_type": "execute_result"
    }
   ],
   "source": [
    "dict.fromkeys(\"abc\", 42)"
   ]
  },
  {
   "cell_type": "code",
   "execution_count": 214,
   "id": "5e980764-3997-460a-918e-f1578a654597",
   "metadata": {},
   "outputs": [
    {
     "data": {
      "text/plain": [
       "{0: 'Python!', 1: 'Python!', 2: 'Python!'}"
      ]
     },
     "execution_count": 214,
     "metadata": {},
     "output_type": "execute_result"
    }
   ],
   "source": [
    "dict.fromkeys(range(3), \"Python!\")"
   ]
  },
  {
   "cell_type": "code",
   "execution_count": 215,
   "id": "f42995cf-8de4-4fe9-9332-5cd8c5c8b4a7",
   "metadata": {},
   "outputs": [
    {
     "data": {
      "text/plain": [
       "7625597484987"
      ]
     },
     "execution_count": 215,
     "metadata": {},
     "output_type": "execute_result"
    }
   ],
   "source": [
    "pow(3, 27) # 3^27"
   ]
  },
  {
   "cell_type": "code",
   "execution_count": 216,
   "id": "a80b1148-c6b9-4b25-ba54-e811a4025d6c",
   "metadata": {},
   "outputs": [
    {
     "data": {
      "text/plain": [
       "7"
      ]
     },
     "execution_count": 216,
     "metadata": {},
     "output_type": "execute_result"
    }
   ],
   "source": [
    "pow(3, 27, 10) # % 10"
   ]
  },
  {
   "cell_type": "code",
   "execution_count": 217,
   "id": "5a8369f4-425d-4324-ba2e-93f1374d642c",
   "metadata": {},
   "outputs": [
    {
     "data": {
      "text/plain": [
       "'pythonmath'"
      ]
     },
     "execution_count": 217,
     "metadata": {},
     "output_type": "execute_result"
    }
   ],
   "source": [
    "\"PythonMath\".lower() if pow(3, 27, 10) > 5 else \"Bad math.\""
   ]
  },
  {
   "cell_type": "code",
   "execution_count": 218,
   "id": "a722a62e-d94a-4bfc-b952-41ded5c5e6b6",
   "metadata": {},
   "outputs": [
    {
     "data": {
      "text/plain": [
       "'odd'"
      ]
     },
     "execution_count": 218,
     "metadata": {},
     "output_type": "execute_result"
    }
   ],
   "source": [
    "def parity(n):\n",
    "    return \"odd\" if n % 2 else \"even\"\n",
    "parity(15)"
   ]
  },
  {
   "cell_type": "code",
   "execution_count": 219,
   "id": "a0fbd24f-21bb-4b66-be23-1cf46194e105",
   "metadata": {},
   "outputs": [
    {
     "data": {
      "text/plain": [
       "'even'"
      ]
     },
     "execution_count": 219,
     "metadata": {},
     "output_type": "execute_result"
    }
   ],
   "source": [
    "parity(42)"
   ]
  },
  {
   "cell_type": "code",
   "execution_count": 220,
   "id": "60104bec-55a0-48de-a774-708d6335b401",
   "metadata": {},
   "outputs": [],
   "source": [
    "def abs(x):\n",
    "    return x if x > 0 else -x"
   ]
  },
  {
   "cell_type": "code",
   "execution_count": 221,
   "id": "d119795a-2d5c-4d3e-bcd1-d521b0997012",
   "metadata": {},
   "outputs": [
    {
     "data": {
      "text/plain": [
       "10"
      ]
     },
     "execution_count": 221,
     "metadata": {},
     "output_type": "execute_result"
    }
   ],
   "source": [
    "abs(10)"
   ]
  },
  {
   "cell_type": "code",
   "execution_count": 222,
   "id": "b6f0c85c-ce14-4f69-a31e-e5ae5d1f16bf",
   "metadata": {},
   "outputs": [
    {
     "data": {
      "text/plain": [
       "42"
      ]
     },
     "execution_count": 222,
     "metadata": {},
     "output_type": "execute_result"
    }
   ],
   "source": [
    "abs(-42)"
   ]
  },
  {
   "cell_type": "code",
   "execution_count": 223,
   "id": "c8af8e31-f40f-4377-adb4-cb1d70a89895",
   "metadata": {},
   "outputs": [],
   "source": [
    "def ucs(x):\n",
    "    return chr(x) if isinstance(x, int) else ord(x)"
   ]
  },
  {
   "cell_type": "code",
   "execution_count": 224,
   "id": "eeacf4e9-0ebb-456e-9d79-f357eb464e2b",
   "metadata": {},
   "outputs": [
    {
     "data": {
      "text/plain": [
       "65"
      ]
     },
     "execution_count": 224,
     "metadata": {},
     "output_type": "execute_result"
    }
   ],
   "source": [
    "ucs(\"A\")"
   ]
  },
  {
   "cell_type": "code",
   "execution_count": 225,
   "id": "8e2d778f-f874-4d61-9ca1-a613e37977ec",
   "metadata": {},
   "outputs": [
    {
     "data": {
      "text/plain": [
       "'A'"
      ]
     },
     "execution_count": 225,
     "metadata": {},
     "output_type": "execute_result"
    }
   ],
   "source": [
    "ucs(65)"
   ]
  },
  {
   "cell_type": "code",
   "execution_count": 226,
   "id": "3afb5d6d-d27c-4a28-ac1b-bc91fd4c3f12",
   "metadata": {},
   "outputs": [
    {
     "data": {
      "text/plain": [
       "'f'"
      ]
     },
     "execution_count": 226,
     "metadata": {},
     "output_type": "execute_result"
    }
   ],
   "source": [
    "ucs(102)"
   ]
  },
  {
   "cell_type": "code",
   "execution_count": 227,
   "id": "1e132bae-f5ed-4709-b1a6-31c257b82aba",
   "metadata": {},
   "outputs": [
    {
     "data": {
      "text/plain": [
       "102"
      ]
     },
     "execution_count": 227,
     "metadata": {},
     "output_type": "execute_result"
    }
   ],
   "source": [
    "ucs(\"f\")"
   ]
  },
  {
   "cell_type": "code",
   "execution_count": 228,
   "id": "b26dcab8-2677-4616-86f1-71c93c1a4a7f",
   "metadata": {},
   "outputs": [],
   "source": [
    "def sign(x):\n",
    "    return 0 if x == 0 else (1 if x > 0 else -1) # this is easier to read than if we left the () off both the same"
   ]
  },
  {
   "cell_type": "code",
   "execution_count": 229,
   "id": "2f686d1b-b3cb-4770-83ce-f7af100e0b48",
   "metadata": {},
   "outputs": [
    {
     "data": {
      "text/plain": [
       "-1"
      ]
     },
     "execution_count": 229,
     "metadata": {},
     "output_type": "execute_result"
    }
   ],
   "source": [
    "sign(-42)"
   ]
  },
  {
   "cell_type": "code",
   "execution_count": 230,
   "id": "ccbe3e0e-2da3-41ad-ad94-78fc275d6000",
   "metadata": {},
   "outputs": [
    {
     "data": {
      "text/plain": [
       "0"
      ]
     },
     "execution_count": 230,
     "metadata": {},
     "output_type": "execute_result"
    }
   ],
   "source": [
    "sign(0)"
   ]
  },
  {
   "cell_type": "code",
   "execution_count": 231,
   "id": "1ebb2332-95c1-45e5-9762-58487aa62e1e",
   "metadata": {},
   "outputs": [
    {
     "data": {
      "text/plain": [
       "1"
      ]
     },
     "execution_count": 231,
     "metadata": {},
     "output_type": "execute_result"
    }
   ],
   "source": [
    "sign(69)"
   ]
  },
  {
   "cell_type": "code",
   "execution_count": 232,
   "id": "cc715625-c818-4304-81f3-d6bf57f1df74",
   "metadata": {},
   "outputs": [],
   "source": [
    "# using cond() may raise an error as it evaluates all conditions inside"
   ]
  },
  {
   "cell_type": "code",
   "execution_count": 236,
   "id": "79245291-266d-418a-b38e-16ce511b578b",
   "metadata": {},
   "outputs": [],
   "source": [
    "class DictSubclass(dict):\n",
    "    def __missing__(self, key):\n",
    "        print(f\"Missing {key = }\")\n",
    "\n",
    "my_dict = DictSubclass()"
   ]
  },
  {
   "cell_type": "code",
   "execution_count": 237,
   "id": "80e39cda-927b-44ed-ba43-de152663f6b0",
   "metadata": {},
   "outputs": [],
   "source": [
    "my_dict[0] = True"
   ]
  },
  {
   "cell_type": "code",
   "execution_count": 239,
   "id": "ac590ad5-1d40-4c0a-86ac-1b612f2a4f50",
   "metadata": {},
   "outputs": [
    {
     "name": "stdout",
     "output_type": "stream",
     "text": [
      "key found!\n"
     ]
    }
   ],
   "source": [
    "if my_dict[0]:\n",
    "    print(\"key found!\")"
   ]
  },
  {
   "cell_type": "code",
   "execution_count": 240,
   "id": "8ca51bf6-ed02-4418-920a-ca54c9ad52a1",
   "metadata": {},
   "outputs": [
    {
     "name": "stdout",
     "output_type": "stream",
     "text": [
      "Missing key = 1\n"
     ]
    }
   ],
   "source": [
    "my_dict[1]"
   ]
  },
  {
   "cell_type": "code",
   "execution_count": 242,
   "id": "503daa9d-12ca-4565-a050-8c29b9b1f41c",
   "metadata": {},
   "outputs": [
    {
     "name": "stdout",
     "output_type": "stream",
     "text": [
      "28\n",
      "0\n"
     ]
    },
    {
     "data": {
      "text/plain": [
       "defaultdict(<function __main__.<lambda>()>, {'Mathias': 28, 'me': 0})"
      ]
     },
     "execution_count": 242,
     "metadata": {},
     "output_type": "execute_result"
    }
   ],
   "source": [
    "from collections import defaultdict\n",
    "\n",
    "olympic_medals = defaultdict(lambda: 0) # defaults to 0\n",
    "olympic_medals[\"Mathias\"] = 28\n",
    "\n",
    "print(olympic_medals[\"Mathias\"])\n",
    "print(olympic_medals[\"me\"])\n",
    "olympic_medals"
   ]
  },
  {
   "cell_type": "code",
   "execution_count": 243,
   "id": "a1f6972f-7c44-44d4-87aa-9820d135d519",
   "metadata": {},
   "outputs": [],
   "source": [
    "# built in constant NotImplemented should be used only in context of arithmetic dunder methods\n",
    "# NotImplementedError should be raised in body of method but haven't implemented the behavior yet"
   ]
  },
  {
   "cell_type": "code",
   "execution_count": 249,
   "id": "5646353a-985b-434e-912b-3522742e9cbd",
   "metadata": {},
   "outputs": [],
   "source": [
    "class Vector:\n",
    "    def __init__(self, *coordinates):\n",
    "        self.coordinates = coordinates\n",
    "\n",
    "    def __repr__(self):\n",
    "        return f\"Vector{self.coordinates}\"\n",
    "\n",
    "    def __matmul__(self, other): # example: x @ y\n",
    "        return sum(c1 * c2 for c1, c2 in zip(self.coordinates, other.coordinates))\n",
    "\n",
    "    def __add__(self, other):\n",
    "        if isinstance(other, Vector):\n",
    "            result_coordinates = [a + b for a, b in zip(self.coordinates, other.coordinates)]\n",
    "            return Vector(*result_coordinates)\n",
    "        elif isinstance(other, (int, float)):\n",
    "            result_coordinates = [coord + other for coord in self.coordinates]\n",
    "            return Vector(*result_coordinates)\n",
    "        return NotImplemented"
   ]
  },
  {
   "cell_type": "code",
   "execution_count": 245,
   "id": "9855f6ed-ffbc-40bc-ae5b-f713316562cf",
   "metadata": {},
   "outputs": [],
   "source": [
    "class Shape:\n",
    "    def __init__(self, name):\n",
    "        self.name = name\n",
    "\n",
    "    def area(self):\n",
    "        raise NotImplementedError(\"Subclass must implement this method\")\n",
    "\n",
    "    def perimeter(self):\n",
    "        raise NotImplementedError(\"Subclass must implement this method\")"
   ]
  },
  {
   "cell_type": "code",
   "execution_count": 246,
   "id": "c0c2e7f1-aee7-49f6-a44d-cd388bda775c",
   "metadata": {},
   "outputs": [
    {
     "name": "stdout",
     "output_type": "stream",
     "text": [
      "15\n",
      "16\n"
     ]
    }
   ],
   "source": [
    "class Rectangle(Shape):\n",
    "    def __init__(self, length, width):\n",
    "        super().__init__(\"Rectangle\")\n",
    "        self.length = length\n",
    "        self.width = width\n",
    "\n",
    "    def area(self):\n",
    "        return self.length * self.width\n",
    "\n",
    "    def perimeter(self):\n",
    "        return 2 * (self.length + self.width)\n",
    "\n",
    "rect = Rectangle(5, 3)\n",
    "print(rect.area())\n",
    "print(rect.perimeter())"
   ]
  },
  {
   "cell_type": "code",
   "execution_count": 250,
   "id": "77769fa3-8a66-471d-bbcd-1f6e06c70965",
   "metadata": {},
   "outputs": [
    {
     "name": "stdout",
     "output_type": "stream",
     "text": [
      "Vector(4, 5)\n"
     ]
    }
   ],
   "source": [
    "print(Vector(1, 2) + 3)"
   ]
  },
  {
   "cell_type": "code",
   "execution_count": 251,
   "id": "db30af42-e3d5-4e70-92df-c6f8696466cb",
   "metadata": {},
   "outputs": [
    {
     "name": "stdout",
     "output_type": "stream",
     "text": [
      "Vector(5.5, 6.5)\n"
     ]
    }
   ],
   "source": [
    "print(Vector(1, 2) + 4.5)"
   ]
  },
  {
   "cell_type": "code",
   "execution_count": 252,
   "id": "8f6868ce-095c-4fdc-a347-86c088010722",
   "metadata": {},
   "outputs": [
    {
     "ename": "TypeError",
     "evalue": "unsupported operand type(s) for +: 'int' and 'Vector'",
     "output_type": "error",
     "traceback": [
      "\u001b[0;31m---------------------------------------------------------------------------\u001b[0m",
      "\u001b[0;31mTypeError\u001b[0m                                 Traceback (most recent call last)",
      "Cell \u001b[0;32mIn[252], line 1\u001b[0m\n\u001b[0;32m----> 1\u001b[0m \u001b[38;5;28mprint\u001b[39m(\u001b[38;5;241;43m3\u001b[39;49m\u001b[43m \u001b[49m\u001b[38;5;241;43m+\u001b[39;49m\u001b[43m \u001b[49m\u001b[43mVector\u001b[49m\u001b[43m(\u001b[49m\u001b[38;5;241;43m1\u001b[39;49m\u001b[43m,\u001b[49m\u001b[43m \u001b[49m\u001b[38;5;241;43m2\u001b[39;49m\u001b[43m)\u001b[49m) \u001b[38;5;66;03m# runs into an error \u001b[39;00m\n",
      "\u001b[0;31mTypeError\u001b[0m: unsupported operand type(s) for +: 'int' and 'Vector'"
     ]
    }
   ],
   "source": [
    "print(3 + Vector(1, 2))\n",
    "# runs into an error python trys a.__add__(b) if NotImplemented then tries the reflection\n",
    "# b.__radd__(a) which is not implemented, since addition is communtative you can say\n",
    "# __radd__ = __add__ but this isn't the case with strings:"
   ]
  },
  {
   "cell_type": "code",
   "execution_count": 253,
   "id": "eed60739-1a2f-4f19-bfab-b9299e5f4069",
   "metadata": {},
   "outputs": [
    {
     "data": {
      "text/plain": [
       "'Python is the best!'"
      ]
     },
     "execution_count": 253,
     "metadata": {},
     "output_type": "execute_result"
    }
   ],
   "source": [
    "a = \"Python \"\n",
    "b = \"is the best!\"\n",
    "a + b"
   ]
  },
  {
   "cell_type": "code",
   "execution_count": 254,
   "id": "080c67c1-65e2-4186-aa4a-be6b1e61776d",
   "metadata": {},
   "outputs": [
    {
     "data": {
      "text/plain": [
       "'is the best!Python '"
      ]
     },
     "execution_count": 254,
     "metadata": {},
     "output_type": "execute_result"
    }
   ],
   "source": [
    "b + a"
   ]
  },
  {
   "cell_type": "code",
   "execution_count": 256,
   "id": "091d46cf-8ffe-4f8b-afd9-9993a0a39906",
   "metadata": {},
   "outputs": [],
   "source": [
    "class S:\n",
    "    def __init__(self, value):\n",
    "        self.value = value\n",
    "\n",
    "    def __add__(self, other):\n",
    "        print(\"S.__add__\")\n",
    "        if isinstance(other, S):\n",
    "            return self.value + other.value\n",
    "        return NotImplemented\n",
    "\n",
    "class E(S):\n",
    "    def __init__(self):\n",
    "        super().__init__(\"\")\n",
    "\n",
    "    def __add__(self, other):\n",
    "        print(\"E.__add__\")\n",
    "        if isinstance(other, S):\n",
    "            return other.value\n",
    "        return NotImplemented\n",
    "\n",
    "    def __radd__(self, other):\n",
    "        print(\"E.__radd__\")\n",
    "        if isinstance(other, S):\n",
    "            return other.value\n",
    "        return NotImplemented"
   ]
  },
  {
   "cell_type": "code",
   "execution_count": 257,
   "id": "507fd82f-7ce9-4eca-8b6d-a3845e167cca",
   "metadata": {},
   "outputs": [
    {
     "name": "stdout",
     "output_type": "stream",
     "text": [
      "E.__radd__\n"
     ]
    },
    {
     "data": {
      "text/plain": [
       "'0i'"
      ]
     },
     "execution_count": 257,
     "metadata": {},
     "output_type": "execute_result"
    }
   ],
   "source": [
    "S(\"0i\") + E() # since E is a subclass of S E.__radd__ has priority over S.__add__"
   ]
  },
  {
   "cell_type": "code",
   "execution_count": 259,
   "id": "0e939ba0-99cb-4f33-96e6-21898caaff12",
   "metadata": {},
   "outputs": [
    {
     "data": {
      "text/plain": [
       "Ellipsis"
      ]
     },
     "execution_count": 259,
     "metadata": {},
     "output_type": "execute_result"
    }
   ],
   "source": [
    "class VectorNew:\n",
    "    def __init__(self, *coordinates):\n",
    "        self.coordinates = coordinates\n",
    "\n",
    "    def __repr__(self):\n",
    "        return f\"Vector{self.coordinates}\"\n",
    "\n",
    "    def __abs__(self):\n",
    "        return pow(sum(coord**2 for coord in self.coordinates), 0.5)\n",
    "\n",
    "    def __pos__(self):\n",
    "        return Vector(*self.coordinates)\n",
    "\n",
    "    def __neg__(self):\n",
    "        return Vector(*[-coord for coord in self.coordinates])\n",
    "\n",
    "    def __invert__(self):\n",
    "        \"\"\"Computing a vector that is orthogonal to this one\"\"\"\n",
    "        if len(self.coordinates) <= 1:\n",
    "            raise TypeError(f\"Cannot invert cvector of length {len(self.coordinates)}.\")\n",
    "\n",
    "        to_flip = [0, 1]\n",
    "        for idx, coord in enumerate(self.coordinates):\n",
    "            if coord:\n",
    "                to_flip.append(idx)\n",
    "\n",
    "        coordinates = [0] * len(self.coordinates)\n",
    "        coordinates[to_flip[-1]] = self.coordinates[to_flip[-2]]\n",
    "        coordinates[to_flip[-2]] = -self.coordinates[to_flip[-1]]\n",
    "        return Vector(*coordinates)\n",
    "\n",
    "    def __add__(self, other):\n",
    "        print(f\"About to add {self} with {other}\")\n",
    "        if isinstance(other, Vector):\n",
    "            result_coordinates = [\n",
    "                a + b for a, b in zip(self.coordinates, other.coordinates)\n",
    "            ]\n",
    "            return Vector(*result_coordinates)\n",
    "        elif isinstance(other, (int, float)):\n",
    "            print(f\"{other} is an int or float\")\n",
    "            result_coordinates = [coord + other for coord in self.coordinates]\n",
    "            return Vector(*result_coordinates)\n",
    "        return NotImplemented\n",
    "\n",
    "    def __radd__(self, other):\n",
    "        print(f\"About to radd {self} with {other}\")\n",
    "        if isinstance(other, Vector):\n",
    "            result_coordinates = [\n",
    "                a + b for a, b in zip(self.coordinates, other.coordinates)\n",
    "            ]\n",
    "            return Vector(*result_coordinates)\n",
    "        elif isinstance(other, (int, float)):\n",
    "            print(f\"{other} is an int or float\")\n",
    "            result_coordinates = [coord + other for coord in self.coordinates]\n",
    "            return Vector(*result_coordinates)\n",
    "        return NotImplemented\n",
    "\n",
    "    def __iadd__(self, other):\n",
    "        if isinstance(other, Vector):\n",
    "            self.coordinates = tuple(\n",
    "                self_coord + other_coord\n",
    "                for self_coord, other_coord in zip(self.coordinates, other.coordinates)\n",
    "            )\n",
    "            return self\n",
    "        elif isinstance(other, (int, float)):\n",
    "            self.coordinates = tuple(coord + other for coord in self.coordinates)\n",
    "            return self\n",
    "        return NotImplemented\n",
    "\n",
    "    def __sub__(self, other):\n",
    "        return self + (-other)\n",
    "\n",
    "    def __rsub__(self, other):\n",
    "        return other + (-self)\n",
    "\n",
    "    def __isub__(self, other):\n",
    "        self += -other\n",
    "        return self\n",
    "\n",
    "    def __mul__(self, other):\n",
    "        if isinstance(other, (int, float)):\n",
    "            coordinates = [coord * other for coord in self.coordinates]\n",
    "            return Vector(*coordinates)\n",
    "        return NotImplemented\n",
    "\n",
    "    def __rmul__(self, other):\n",
    "        return self * other\n",
    "\n",
    "    def __imul__(self, other):\n",
    "        if isinstance(other, (int, float)):\n",
    "            self.coordinates = tuple(coord * other for coord in self.coordinates)\n",
    "            return self\n",
    "        return NotImplemented\n",
    "\n",
    "    def __truediv__(self, other):\n",
    "        if isinstance(other, (int, float)):\n",
    "            coordinates = [coord / other for coord in self.coordinates]\n",
    "            return Vector(*coordinates)\n",
    "        return NotImplemented\n",
    "\n",
    "    def __rtruediv__(self, other):\n",
    "        if isinstance(other, (int, float)):\n",
    "            coordinates = [other / coord for coord in self.coordinates]\n",
    "            return Vector(*coordinates)\n",
    "        return NotImplemented\n",
    "\n",
    "    def __itruediv__(self, other):\n",
    "        if isinstance(other, (int, float)):\n",
    "            self.coordinates = tuple(coord / other for coord in self.coordinates)\n",
    "            return self\n",
    "        return NotImplemented\n",
    "\n",
    "... # more implementations (to be continued)"
   ]
  },
  {
   "cell_type": "code",
   "execution_count": 263,
   "id": "8e4b6062-3d5d-4323-9077-c7b95049ec32",
   "metadata": {},
   "outputs": [
    {
     "name": "stdout",
     "output_type": "stream",
     "text": [
      "The point (0, 0) looks like Point2D(0, 0).\n"
     ]
    }
   ],
   "source": [
    "class Point2D:\n",
    "    def __init__(self, x, y):\n",
    "        self.x = x\n",
    "        self.y = y\n",
    "\n",
    "    def __str__(self):\n",
    "        return f\"({self.x}, {self.y})\"\n",
    "\n",
    "    def __repr__(self):\n",
    "        return f\"Point2D({repr(self.x)}, {repr(self.y)})\"\n",
    "\n",
    "p = Point2D(0, 0)\n",
    "print(f\"The point {p} looks like {repr(p)}.\")"
   ]
  },
  {
   "cell_type": "code",
   "execution_count": 264,
   "id": "1d2bf863-47a0-48a6-b71f-2a491b582871",
   "metadata": {},
   "outputs": [],
   "source": [
    "l = [0, 1, 2, 3, 4]\n",
    "head, *body = l"
   ]
  },
  {
   "cell_type": "code",
   "execution_count": 265,
   "id": "c356653e-add7-43ab-bbed-36b49a4c0349",
   "metadata": {},
   "outputs": [
    {
     "name": "stdout",
     "output_type": "stream",
     "text": [
      "0\n",
      "[1, 2, 3, 4]\n"
     ]
    }
   ],
   "source": [
    "print(head)\n",
    "print(body)"
   ]
  },
  {
   "cell_type": "code",
   "execution_count": 266,
   "id": "505c3d94-4033-4784-bd7a-3ba4664827a9",
   "metadata": {},
   "outputs": [
    {
     "name": "stdout",
     "output_type": "stream",
     "text": [
      "4\n"
     ]
    }
   ],
   "source": [
    "*body, tail = l\n",
    "print(tail)"
   ]
  },
  {
   "cell_type": "code",
   "execution_count": 267,
   "id": "51778aa5-372d-45db-8f9e-6050b9fcc52e",
   "metadata": {},
   "outputs": [
    {
     "name": "stdout",
     "output_type": "stream",
     "text": [
      "[1, 2, 3]\n"
     ]
    }
   ],
   "source": [
    "head, *body, tail = l\n",
    "print(body)"
   ]
  },
  {
   "cell_type": "code",
   "execution_count": 268,
   "id": "5b2dbeeb-0eb1-442d-a9df-23f36d48d42b",
   "metadata": {},
   "outputs": [
    {
     "data": {
      "text/plain": [
       "'Mathias'"
      ]
     },
     "execution_count": 268,
     "metadata": {},
     "output_type": "execute_result"
    }
   ],
   "source": [
    "color_info = (\"Mathias\", (240, 248, 255))\n",
    "name, (r, g, b) = color_info\n",
    "name"
   ]
  },
  {
   "cell_type": "code",
   "execution_count": 269,
   "id": "0e606437-77e9-431d-9425-d8f2a78346cb",
   "metadata": {},
   "outputs": [
    {
     "data": {
      "text/plain": [
       "248"
      ]
     },
     "execution_count": 269,
     "metadata": {},
     "output_type": "execute_result"
    }
   ],
   "source": [
    "g"
   ]
  },
  {
   "cell_type": "code",
   "execution_count": 270,
   "id": "bd48536d-b91b-490a-acac-9d7a43bb62b9",
   "metadata": {},
   "outputs": [
    {
     "data": {
      "text/plain": [
       "['P', 'y', 't', 'h', 'o', 'n']"
      ]
     },
     "execution_count": 270,
     "metadata": {},
     "output_type": "execute_result"
    }
   ],
   "source": [
    "string = \"Python!\"\n",
    "*start, last = string\n",
    "start"
   ]
  },
  {
   "cell_type": "code",
   "execution_count": 271,
   "id": "69645fc9-8364-4fb2-ad50-3e9a558acf5d",
   "metadata": {},
   "outputs": [
    {
     "data": {
      "text/plain": [
       "'!'"
      ]
     },
     "execution_count": 271,
     "metadata": {},
     "output_type": "execute_result"
    }
   ],
   "source": [
    "last"
   ]
  },
  {
   "cell_type": "code",
   "execution_count": 272,
   "id": "d309db9f-eca8-4747-903d-43147eabae00",
   "metadata": {},
   "outputs": [
    {
     "data": {
      "text/plain": [
       "0"
      ]
     },
     "execution_count": 272,
     "metadata": {},
     "output_type": "execute_result"
    }
   ],
   "source": [
    "a, b, *c, d = range(5)\n",
    "a"
   ]
  },
  {
   "cell_type": "code",
   "execution_count": 273,
   "id": "fc73d72e-69cd-4e7a-a1a4-b419afecea3e",
   "metadata": {},
   "outputs": [
    {
     "data": {
      "text/plain": [
       "[2, 3]"
      ]
     },
     "execution_count": 273,
     "metadata": {},
     "output_type": "execute_result"
    }
   ],
   "source": [
    "c"
   ]
  },
  {
   "cell_type": "code",
   "execution_count": 274,
   "id": "74d7027e-61d2-4e67-83e5-c6b32466e04a",
   "metadata": {},
   "outputs": [
    {
     "data": {
      "text/plain": [
       "1"
      ]
     },
     "execution_count": 274,
     "metadata": {},
     "output_type": "execute_result"
    }
   ],
   "source": [
    "a, *b = [1]\n",
    "a"
   ]
  },
  {
   "cell_type": "code",
   "execution_count": 275,
   "id": "b5833557-17a6-4a7d-aacb-a411a7c8d09f",
   "metadata": {},
   "outputs": [
    {
     "data": {
      "text/plain": [
       "[]"
      ]
     },
     "execution_count": 275,
     "metadata": {},
     "output_type": "execute_result"
    }
   ],
   "source": [
    "b"
   ]
  },
  {
   "cell_type": "code",
   "execution_count": 276,
   "id": "b443fc77-4cee-4c55-aeb2-dcb368489072",
   "metadata": {},
   "outputs": [
    {
     "data": {
      "text/plain": [
       "['This', 'is', 'a', 'sentence', 'with', 'very', 'few', 'words.']"
      ]
     },
     "execution_count": 276,
     "metadata": {},
     "output_type": "execute_result"
    }
   ],
   "source": [
    "sentence = \"This is a sentence with very few words.\"\n",
    "sentence.split(\" \")"
   ]
  },
  {
   "cell_type": "code",
   "execution_count": 277,
   "id": "22180f8b-be58-481d-8fb3-fff6affafd8d",
   "metadata": {},
   "outputs": [
    {
     "data": {
      "text/plain": [
       "['This', 'is', 'a', 'sentence with very few words.']"
      ]
     },
     "execution_count": 277,
     "metadata": {},
     "output_type": "execute_result"
    }
   ],
   "source": [
    "sentence.split(\" \", maxsplit=3)"
   ]
  },
  {
   "cell_type": "code",
   "execution_count": 278,
   "id": "694ebd79-7833-45b5-a176-05d7c7ed731f",
   "metadata": {},
   "outputs": [
    {
     "data": {
      "text/plain": [
       "['This', 'is', 'a']"
      ]
     },
     "execution_count": 278,
     "metadata": {},
     "output_type": "execute_result"
    }
   ],
   "source": [
    "*first_three, rest = sentence.split(\" \", 3)\n",
    "first_three"
   ]
  },
  {
   "cell_type": "code",
   "execution_count": 279,
   "id": "cca08e90-a47f-4379-8478-59d671623d78",
   "metadata": {},
   "outputs": [
    {
     "data": {
      "text/plain": [
       "'sentence with very few words.'"
      ]
     },
     "execution_count": 279,
     "metadata": {},
     "output_type": "execute_result"
    }
   ],
   "source": [
    "rest"
   ]
  },
  {
   "cell_type": "code",
   "execution_count": 282,
   "id": "08c808ff-5b70-4c00-a82c-532974790b58",
   "metadata": {},
   "outputs": [
    {
     "name": "stdout",
     "output_type": "stream",
     "text": [
      "True\n"
     ]
    }
   ],
   "source": [
    "# Luhn Algorithm is used to compute a digit for things like credit card numbers or bank accounts\n",
    "def verify_check_digit(digits):\n",
    "    *digits, check_digit = digits\n",
    "    weight = 2\n",
    "    acc = 0\n",
    "    for digit in reversed(digits):\n",
    "        value = digit * weight\n",
    "        acc += (value // 10) + (value % 10)\n",
    "        weight = 3 - weight\n",
    "    return (9 * acc % 10) == check_digit\n",
    "\n",
    "print(verify_check_digit([7, 9, 9, 2, 7, 3, 9, 8, 7, 1, 3]))"
   ]
  },
  {
   "cell_type": "code",
   "execution_count": 283,
   "id": "c01e59f9-81ad-45de-92e4-d03f227e3ba1",
   "metadata": {},
   "outputs": [],
   "source": [
    "def factorial(n):\n",
    "    match n:\n",
    "        case 0 | 1:\n",
    "            return 1\n",
    "        case _:\n",
    "            return n * factorial(n - 1)"
   ]
  },
  {
   "cell_type": "code",
   "execution_count": 284,
   "id": "c000502a-55e1-4687-ad6a-7ad87a040c48",
   "metadata": {},
   "outputs": [
    {
     "data": {
      "text/plain": [
       "120"
      ]
     },
     "execution_count": 284,
     "metadata": {},
     "output_type": "execute_result"
    }
   ],
   "source": [
    "factorial(5)"
   ]
  },
  {
   "cell_type": "code",
   "execution_count": 285,
   "id": "9442a5c6-1845-4b07-b7b8-3f4a16795004",
   "metadata": {},
   "outputs": [],
   "source": [
    "def normalize_color_info(color):\n",
    "    match color:\n",
    "        case (r, g, b):\n",
    "            name = \"\"\n",
    "            a = 0\n",
    "        case (r, g, b, a):\n",
    "            name = \"\"\n",
    "        case (name, (r, g, b)):\n",
    "            a = 0\n",
    "        case (name, (r, g, b, a)):\n",
    "            pass\n",
    "        case _:\n",
    "            raise ValueError(\"Unknown color info.\")\n",
    "    return (name, (r, g, b, a))"
   ]
  },
  {
   "cell_type": "code",
   "execution_count": 287,
   "id": "20fbb56c-5bd9-4538-a827-74a14e5b0de9",
   "metadata": {},
   "outputs": [
    {
     "name": "stdout",
     "output_type": "stream",
     "text": [
      "('', (240, 248, 255, 0))\n"
     ]
    }
   ],
   "source": [
    "print(normalize_color_info((240, 248, 255)))"
   ]
  },
  {
   "cell_type": "code",
   "execution_count": 289,
   "id": "e78acf17-d67c-47b5-a767-707051368b02",
   "metadata": {},
   "outputs": [
    {
     "name": "stdout",
     "output_type": "stream",
     "text": [
      "('Mathias', (240, 248, 255, 0))\n"
     ]
    }
   ],
   "source": [
    "print(normalize_color_info(('Mathias', (240, 248, 255))))"
   ]
  },
  {
   "cell_type": "code",
   "execution_count": 293,
   "id": "8e989a13-ee5c-4561-9768-74ff7168d5d4",
   "metadata": {},
   "outputs": [],
   "source": [
    "def describe_point(point):\n",
    "    match point:\n",
    "        case Point2D(x=0, y=0):\n",
    "            desc = \"at the origin\"\n",
    "        case Point2D(x=0, y=y):\n",
    "            desc = f\"in the vertical axis, at y={y}\"\n",
    "        case Point2D(x=x, y=0):\n",
    "            desc = f\"in the horizontal axis, at x={x}\"\n",
    "        case Point2D(x=x, y=y) if x == y:\n",
    "            desc = f\"along the x = y line with x = y = {x}\"\n",
    "        case Point2D(x=x, y=y) if x == -y:\n",
    "            desc = f\"along the x = -y line with x = {x} and y = {y}\"\n",
    "        case Point2D(x=x, y=y):\n",
    "            desc = f\"at {point}\"\n",
    "    return \"The point is \" + desc"
   ]
  },
  {
   "cell_type": "code",
   "execution_count": 294,
   "id": "545f7a1a-427d-485a-8a85-f63bf8c9acbc",
   "metadata": {},
   "outputs": [
    {
     "name": "stdout",
     "output_type": "stream",
     "text": [
      "The point is at the origin\n"
     ]
    }
   ],
   "source": [
    "print(describe_point(Point2D(0, 0)))"
   ]
  },
  {
   "cell_type": "code",
   "execution_count": 295,
   "id": "fe6d9e97-e1a7-4286-b30d-4194aa39f3af",
   "metadata": {},
   "outputs": [],
   "source": [
    "# Point2D class could use __match_args__ = [\"x\", \"y\"]\n",
    "# above match becomes: case Point2D(0, 0) (x= and y= removed)"
   ]
  },
  {
   "cell_type": "code",
   "execution_count": 304,
   "id": "27e4f043-c816-4a9c-911f-0753eef17f7f",
   "metadata": {},
   "outputs": [],
   "source": [
    "def rule_substitution(seq):\n",
    "    new_seq = []\n",
    "    while seq:\n",
    "        match seq:\n",
    "            case [x, y, z, *tail] if x == y == z:\n",
    "                new_seq.extend([\"3\", x])\n",
    "            case [x, y, *tail] if x == y:\n",
    "                 new_seq.extend([\"2\", x])\n",
    "            case [x, *tail]:\n",
    "                new_seq.extend([\"1\", x])\n",
    "        seq = tail\n",
    "    return new_seq"
   ]
  },
  {
   "cell_type": "code",
   "execution_count": 305,
   "id": "e47b0789-0cd8-4f72-9d40-9056a11d56f0",
   "metadata": {},
   "outputs": [
    {
     "name": "stdout",
     "output_type": "stream",
     "text": [
      "1\n",
      "11\n",
      "21\n",
      "1211\n",
      "111221\n",
      "312211\n",
      "13112221\n",
      "1113213211\n",
      "31131211131221\n",
      "13211311123113112211\n",
      "11131221133112132113212221\n"
     ]
    }
   ],
   "source": [
    "seq = [\"1\"]\n",
    "print(seq[0])\n",
    "for _ in range(10):\n",
    "    seq = rule_substitution(seq)\n",
    "    print(\"\".join(seq))"
   ]
  },
  {
   "cell_type": "code",
   "execution_count": 306,
   "id": "d6b5f084-8828-47ed-96e7-8b275eaad875",
   "metadata": {},
   "outputs": [
    {
     "name": "stdout",
     "output_type": "stream",
     "text": [
      "found a match ignores other keys\n"
     ]
    }
   ],
   "source": [
    "d = {69: \"hello\", 42: \"answer\"}\n",
    "match d:\n",
    "    case {69: \"hello\"}:\n",
    "        print(\"found a match ignores other keys\")"
   ]
  },
  {
   "cell_type": "code",
   "execution_count": 307,
   "id": "fe3500aa-271e-46a1-90fb-192b0e4284a3",
   "metadata": {},
   "outputs": [
    {
     "name": "stdout",
     "output_type": "stream",
     "text": [
      "{42: 'answer'}\n"
     ]
    }
   ],
   "source": [
    "match d:\n",
    "    case {69: \"hello\", **remainder}:\n",
    "        print(remainder)"
   ]
  },
  {
   "cell_type": "code",
   "execution_count": 308,
   "id": "24815b2b-4592-4198-9030-3c4dcb7aafe1",
   "metadata": {},
   "outputs": [
    {
     "name": "stdout",
     "output_type": "stream",
     "text": [
      "Has key 69 and other stuff\n"
     ]
    }
   ],
   "source": [
    "match d:\n",
    "    case {69: \"hello\", **remainder} if not remainder:\n",
    "        print(\"Single key in d\")\n",
    "    case {69: \"hello\"}:\n",
    "        print(\"Has key 69 and other stuff\")"
   ]
  },
  {
   "cell_type": "code",
   "execution_count": 309,
   "id": "3bac9499-ea85-43b1-9ae3-f4c441602914",
   "metadata": {},
   "outputs": [
    {
     "name": "stdout",
     "output_type": "stream",
     "text": [
      "69 mapped to hello and 42 mapped to answer\n"
     ]
    }
   ],
   "source": [
    "match d:\n",
    "    case {69: val1, 42: val2}:\n",
    "        print(f\"69 mapped to {val1} and 42 mapped to {val2}\")"
   ]
  },
  {
   "cell_type": "code",
   "execution_count": 310,
   "id": "60012c3f-b3d9-45ae-b9c8-532b15f84f19",
   "metadata": {},
   "outputs": [],
   "source": [
    "def go(direction):\n",
    "    match direction:\n",
    "        case \"North\" | \"East\" | \"South\" | \"West\":\n",
    "            return \"Alight, I'm going!\"\n",
    "        case _:\n",
    "            return \"I can't go that way...\""
   ]
  },
  {
   "cell_type": "code",
   "execution_count": 312,
   "id": "d7398d07-b7a2-4bbb-ae12-4de49c55d1a0",
   "metadata": {},
   "outputs": [
    {
     "name": "stdout",
     "output_type": "stream",
     "text": [
      "Alight, I'm going!\n",
      "I can't go that way...\n"
     ]
    }
   ],
   "source": [
    "print(go(\"North\"))\n",
    "print(go(\"asd\"))"
   ]
  },
  {
   "cell_type": "code",
   "execution_count": 317,
   "id": "521c6002-9d8f-4d11-8d96-b2abb28a22a0",
   "metadata": {},
   "outputs": [
    {
     "name": "stdout",
     "output_type": "stream",
     "text": [
      "Alright, I'm going North!\n"
     ]
    }
   ],
   "source": [
    "def act(command):\n",
    "    match command.split():\n",
    "        case \"Cook\", \"breakfast\":\n",
    "            return \"I love breakfast\"\n",
    "        case \"Cook\", *wtv:\n",
    "            return \"Cooking...\"\n",
    "        case \"Go\", \"North\" | \"East\" | \"South\" | \"West\" as direction:\n",
    "            return f\"Alright, I'm going {direction}!\"\n",
    "        case \"Go\", *wtv:\n",
    "            return \"I can't go that way...\"\n",
    "        case _:\n",
    "            return \"I can't do that...\"\n",
    "        \n",
    "print(act(\"Go North\"))"
   ]
  },
  {
   "cell_type": "code",
   "execution_count": 318,
   "id": "7b0c862a-6a8a-4a4f-9fc3-d54746c8e2ae",
   "metadata": {},
   "outputs": [],
   "source": [
    "import ast\n",
    "\n",
    "def prefix(tree):\n",
    "    match tree:\n",
    "        case ast.Expression(expr):\n",
    "            return prefix(expr)\n",
    "        case ast.Constant(value=v):\n",
    "            return str(v)\n",
    "        case ast.BinOp(lhs, op, rhs):\n",
    "            match op:\n",
    "                case ast.Add():\n",
    "                    sop = \"+\"\n",
    "                case ast.Sub():\n",
    "                    sop = \"-\"\n",
    "                case ast.Mult():\n",
    "                    sop = \"*\"\n",
    "                case ast.Div():\n",
    "                    sop = \"/\"\n",
    "                case _:\n",
    "                    raise NotImplmenetedError()\n",
    "            return f\"{sop} {prefix(lhs)} {prefix(rhs)}\"\n",
    "        case _:\n",
    "            raise NotImplmenetedError()"
   ]
  },
  {
   "cell_type": "code",
   "execution_count": 321,
   "id": "fd5faac0-3c71-4520-9a68-a5a068720020",
   "metadata": {},
   "outputs": [
    {
     "name": "stdout",
     "output_type": "stream",
     "text": [
      "+ + 1 2 3\n"
     ]
    }
   ],
   "source": [
    "print(prefix(ast.parse(\"1 + 2 + 3\", mode=\"eval\")))"
   ]
  },
  {
   "cell_type": "code",
   "execution_count": 322,
   "id": "c3408be3-b93c-4c83-9e3c-14d2cc86cb4f",
   "metadata": {},
   "outputs": [],
   "source": [
    "def op_to_str(op):\n",
    "    ops = {\n",
    "        ast.Add: \"+\",\n",
    "        ast.Sub: \"-\",\n",
    "        ast.Mult: \"*\",\n",
    "        ast.Div: \"/\",\n",
    "    }\n",
    "    return ops.get(op.__class__, None)\n",
    "\n",
    "def prefix_new(tree):\n",
    "    match tree:\n",
    "        case ast.Expression(expr):\n",
    "            return prefix(expr)\n",
    "        case ast.Constant(value=v):\n",
    "            return str(v)\n",
    "        case ast.BinOp(lhs, op, rhs):\n",
    "            sop = op_to_str(op)\n",
    "            if sop is None:\n",
    "                raise NotImplementedError()\n",
    "            return f\"{sop} {prefix(lhs)} {prefix(rhs)}\"\n",
    "        case _:\n",
    "            raise NotImplementedError()"
   ]
  },
  {
   "cell_type": "code",
   "execution_count": 324,
   "id": "8b971b2f-cef1-4f4e-8036-eb806e74fbbc",
   "metadata": {},
   "outputs": [],
   "source": [
    "# not pretty (no-pun intended) but a pattern to be aware of\n",
    "import functools\n",
    "\n",
    "@functools.singledispatch\n",
    "def pretty_print(arg):\n",
    "    print(arg)\n",
    "\n",
    "@pretty_print.register(complex)\n",
    "def _(arg):\n",
    "    print(f\"{arg.real} + {arg.imag}i\")\n",
    "\n",
    "@pretty_print.register(list)\n",
    "@pretty_print.register(tuple)\n",
    "def _(arg):\n",
    "    for i, elem in enumerate(arg):\n",
    "        print(i, elem)\n",
    "\n",
    "@pretty_print.register(dict)\n",
    "def _(arg):\n",
    "    for key, value in arg.items():\n",
    "        print(f\"{key}: {value}\")"
   ]
  },
  {
   "cell_type": "code",
   "execution_count": 325,
   "id": "e077805f-2572-485c-99e2-dc39c0eb95b9",
   "metadata": {},
   "outputs": [
    {
     "name": "stdout",
     "output_type": "stream",
     "text": [
      "0 2\n",
      "1 5\n"
     ]
    }
   ],
   "source": [
    "pretty_print([2, 5])"
   ]
  },
  {
   "cell_type": "code",
   "execution_count": 326,
   "id": "c4453045-6656-4f77-816f-135198ae9665",
   "metadata": {},
   "outputs": [],
   "source": [
    "import datetime as dt\n",
    "\n",
    "class Person:\n",
    "    def __init__(self, first, last, birthdate):\n",
    "        self.first = first\n",
    "        self.last = last\n",
    "        self.birthdate = birthdate\n",
    "\n",
    "    @property\n",
    "    def age(self):\n",
    "        today = dt.date.today()\n",
    "        current_year = today.year\n",
    "        will_celebrate = self.birthdate.replace(year=current_year) > today\n",
    "        return current_year - self.birthdate.year - will_celebrate"
   ]
  },
  {
   "cell_type": "code",
   "execution_count": 330,
   "id": "577be0a5-1187-4a0e-8020-fcfacc8b85ac",
   "metadata": {},
   "outputs": [],
   "source": [
    "# descriptors\n",
    "class ColorComponent:\n",
    "    def __init__(self, start, end):\n",
    "        self.start = start\n",
    "        self.end = end\n",
    "\n",
    "    def __get__(self, obj, cls):\n",
    "        print(f\"__get__ {obj} {cls}\")\n",
    "        return int(obj.hex[self.start:self.end], 16)\n",
    "\n",
    "class Color:\n",
    "    r = ColorComponent(1, 3)\n",
    "    g = ColorComponent(3, 5)\n",
    "    b = ColorComponent(5, 7)\n",
    "\n",
    "    def __init__(self, hex):\n",
    "        self.hex = hex"
   ]
  },
  {
   "cell_type": "code",
   "execution_count": 331,
   "id": "a275c7fd-f94a-42e8-8050-296963d8ba6d",
   "metadata": {},
   "outputs": [
    {
     "name": "stdout",
     "output_type": "stream",
     "text": [
      "__get__ <__main__.Color object at 0x11000c400> <class '__main__.Color'>\n"
     ]
    },
    {
     "data": {
      "text/plain": [
       "255"
      ]
     },
     "execution_count": 331,
     "metadata": {},
     "output_type": "execute_result"
    }
   ],
   "source": [
    "red = Color(\"#FF0000\")\n",
    "red.r"
   ]
  },
  {
   "cell_type": "code",
   "execution_count": 332,
   "id": "1d2aceb0-e41a-45bb-af6a-eccdd9f86a09",
   "metadata": {},
   "outputs": [
    {
     "name": "stdout",
     "output_type": "stream",
     "text": [
      "__get__ <__main__.Color object at 0x11000c400> <class '__main__.Color'>\n",
      "__get__ <__main__.Color object at 0x11000c400> <class '__main__.Color'>\n"
     ]
    },
    {
     "data": {
      "text/plain": [
       "(0, 0)"
      ]
     },
     "execution_count": 332,
     "metadata": {},
     "output_type": "execute_result"
    }
   ],
   "source": [
    "red.g, red.b"
   ]
  },
  {
   "cell_type": "code",
   "execution_count": 333,
   "id": "4fd889db-80ed-4bdb-9bdd-b8c5792ec72d",
   "metadata": {},
   "outputs": [
    {
     "name": "stdout",
     "output_type": "stream",
     "text": [
      "__set_name__ with <class '__main__.NewPerson'> and 'first'.\n",
      "__set_name__ with <class '__main__.NewPerson'> and 'last'.\n"
     ]
    }
   ],
   "source": [
    "class PrivateAttrGetter:\n",
    "    def __set_name__(self, owner, name):\n",
    "        print(f\"__set_name__ with {owner} and {name!r}.\")\n",
    "        self.private_attribute_name = f\"_{name}\"\n",
    "\n",
    "    def __get__(self, obj, cls):\n",
    "        print(f\"__get__ and going to access {self.private_attribute_name}.\")\n",
    "        return getattr(obj, self.private_attribute_name)\n",
    "\n",
    "class NewPerson:\n",
    "    first = PrivateAttrGetter()\n",
    "    last = PrivateAttrGetter()\n",
    "\n",
    "    def __init__(self, first, last):\n",
    "        self._first = first\n",
    "        self._last = last"
   ]
  },
  {
   "cell_type": "code",
   "execution_count": 339,
   "id": "d56e012b-b1cf-4932-8a63-b416ee6d951b",
   "metadata": {},
   "outputs": [
    {
     "name": "stdout",
     "output_type": "stream",
     "text": [
      "__set_name__\n",
      "__set_name__\n",
      "__get__\n",
      "John\n",
      "__get__\n",
      "Doe\n",
      "__get__\n",
      "John\n"
     ]
    },
    {
     "data": {
      "text/plain": [
       "{'_first': 'John', '_last': 'Doe', '_first_count': 2, '_last_count': 1}"
      ]
     },
     "execution_count": 339,
     "metadata": {},
     "output_type": "execute_result"
    }
   ],
   "source": [
    "class AttributeAccessCounter:\n",
    "    def __set_name__(self, owner, name):\n",
    "        print(\"__set_name__\")\n",
    "        self.name = name\n",
    "        \n",
    "    def __get__(self, obj, cls):\n",
    "        print(\"__get__\")\n",
    "        counter_name = f\"_{self.name}_count\"\n",
    "        obj.__dict__.setdefault(counter_name, 0)\n",
    "        obj.__dict__[counter_name] += 1  # Increment access counter\n",
    "        return obj.__dict__.get(f\"_{self.name}\", None)\n",
    "\n",
    "class PersonA:\n",
    "    first = AttributeAccessCounter()\n",
    "    last = AttributeAccessCounter()\n",
    "    \n",
    "    def __init__(self, first, last):\n",
    "        self._first = first\n",
    "        self._last = last\n",
    "        \n",
    "john = PersonA(\"John\", \"Doe\")\n",
    "print(john.first) # Counter at 1.\n",
    "print(john.last) # Counter at 1.\n",
    "print(john.first) # Counter at 2.\n",
    "vars(john)"
   ]
  },
  {
   "cell_type": "code",
   "execution_count": 357,
   "id": "244cb0a2-dace-4bae-b7ba-4cbc25322c90",
   "metadata": {},
   "outputs": [
    {
     "name": "stdout",
     "output_type": "stream",
     "text": [
      "287\n"
     ]
    }
   ],
   "source": [
    "import pathlib\n",
    "\n",
    "class NGFilesDescriptor:\n",
    "    def __set_name__(self, owner, name):\n",
    "        self.name = name\n",
    "    \n",
    "    def __get__(self, obj, cls):\n",
    "        file_count = sum(1 for p in obj.path.iterdir() if p.is_file())\n",
    "        return file_count\n",
    "        \n",
    "\n",
    "class Directory:\n",
    "    nfiles = NGFilesDescriptor()\n",
    "\n",
    "    def __init__(self, path):\n",
    "        self.path = path\n",
    "\n",
    "home = Directory(pathlib.Path(\"/Users/mathias/Downloads\"))\n",
    "print(home.nfiles)"
   ]
  },
  {
   "cell_type": "code",
   "execution_count": 364,
   "id": "fa67a2b7-cb06-425e-9de6-259774946f2b",
   "metadata": {},
   "outputs": [],
   "source": [
    "from functools import partial\n",
    "\n",
    "class KeepHistory:\n",
    "    def __set_name__(self, owner, name):\n",
    "        self.private_name = f\"_{name}\"\n",
    "        self.history_name = f\"_{name}_history\"\n",
    "\n",
    "    def __set__(self, obj, value):\n",
    "        history = getattr(obj, self.history_name, [])\n",
    "        sentinel = object()\n",
    "        old_value = getattr(obj, self.private_name, sentinel)\n",
    "        if old_value is not sentinel:\n",
    "            history.append(old_value)\n",
    "        setattr(obj, self.private_name, value)\n",
    "        setattr(obj, self.history_name, history)\n",
    "\n",
    "    class ValueWithHistory:\n",
    "        def __init__(self, value, history, undo_method):\n",
    "            self.value = value\n",
    "            self.history = history\n",
    "            self.undo = undo_method\n",
    "\n",
    "    def __get__(self, obj, cls):\n",
    "        value = getattr(obj, self.private_name)\n",
    "        history = getattr(obj, self.history_name, [])\n",
    "        return self.ValueWithHistory(value, history, partial(self.undo, obj))\n",
    "\n",
    "    def undo(self, obj):\n",
    "        history = getattr(obj, self.history_name, [])\n",
    "        if not history:\n",
    "            raise RuntimeError(\"Can't undo value change with empty history.\")\n",
    "        setattr(obj, self.private_name, history.pop())\n",
    "        setattr(obj, self.history_name, history)"
   ]
  },
  {
   "cell_type": "code",
   "execution_count": 365,
   "id": "3f9cb87f-862e-43f7-8ffa-1cd7bd8fe5a2",
   "metadata": {},
   "outputs": [
    {
     "name": "stdout",
     "output_type": "stream",
     "text": [
      "73\n",
      "[1, 2]\n",
      "2\n",
      "[1]\n"
     ]
    }
   ],
   "source": [
    "class C:\n",
    "    x = KeepHistory()\n",
    "\n",
    "c = C()\n",
    "c.x = 1\n",
    "c.x = 2\n",
    "c.x = 73\n",
    "print(c.x.value)\n",
    "print(c.x.history)\n",
    "c.x.undo()\n",
    "print(c.x.value)\n",
    "print(c.x.history)"
   ]
  },
  {
   "cell_type": "code",
   "execution_count": 375,
   "id": "6b3e9983-03d3-4934-be53-11949e06b1bd",
   "metadata": {},
   "outputs": [],
   "source": [
    "import random\n",
    "\n",
    "class Descriptor:\n",
    "    def __init__(self):\n",
    "        self.value = random.randint(1, 10)\n",
    "\n",
    "    def __get__(self, obj, cls):\n",
    "        print(f\"in __get__ with {obj} and {cls}\")\n",
    "        return self.value\n",
    "\n",
    "class MyClass:\n",
    "    x = Descriptor()"
   ]
  },
  {
   "cell_type": "code",
   "execution_count": 388,
   "id": "e52637ab-a9b9-4a40-8f7a-13a4142ef255",
   "metadata": {},
   "outputs": [
    {
     "name": "stdout",
     "output_type": "stream",
     "text": [
      "in __get__ with <__main__.MyClass object at 0x1080d8970> and <class '__main__.MyClass'>\n"
     ]
    },
    {
     "data": {
      "text/plain": [
       "6"
      ]
     },
     "execution_count": 388,
     "metadata": {},
     "output_type": "execute_result"
    }
   ],
   "source": [
    "c = MyClass()\n",
    "c.x"
   ]
  },
  {
   "cell_type": "code",
   "execution_count": 389,
   "id": "7e9b0eb5-c42a-4a7a-a921-bfbb85889e3e",
   "metadata": {},
   "outputs": [
    {
     "name": "stdout",
     "output_type": "stream",
     "text": [
      "in __get__ with None and <class '__main__.MyClass'>\n"
     ]
    },
    {
     "data": {
      "text/plain": [
       "6"
      ]
     },
     "execution_count": 389,
     "metadata": {},
     "output_type": "execute_result"
    }
   ],
   "source": [
    "MyClass.x"
   ]
  },
  {
   "cell_type": "code",
   "execution_count": 391,
   "id": "96e7b459-1840-494c-b5ca-df25078481f1",
   "metadata": {},
   "outputs": [
    {
     "name": "stdout",
     "output_type": "stream",
     "text": [
      "{'__module__': '__main__', 'x': <__main__.Descriptor object at 0x1080d9000>, '__dict__': <attribute '__dict__' of 'MyClass' objects>, '__weakref__': <attribute '__weakref__' of 'MyClass' objects>, '__doc__': None}\n"
     ]
    }
   ],
   "source": [
    "print(vars(MyClass))"
   ]
  },
  {
   "cell_type": "code",
   "execution_count": 392,
   "id": "be43d29c-3a50-46a0-ba30-6eb9684c5d3b",
   "metadata": {},
   "outputs": [
    {
     "data": {
      "text/plain": [
       "6"
      ]
     },
     "execution_count": 392,
     "metadata": {},
     "output_type": "execute_result"
    }
   ],
   "source": [
    "my_class_descriptor = vars(MyClass)[\"x\"]\n",
    "my_class_descriptor.value"
   ]
  },
  {
   "cell_type": "code",
   "execution_count": null,
   "id": "6fcfb0a4-cbce-4698-bbfa-1dcdf2f2deb7",
   "metadata": {},
   "outputs": [],
   "source": []
  }
 ],
 "metadata": {
  "kernelspec": {
   "display_name": "Python 3.10",
   "language": "python",
   "name": "python3.10"
  },
  "language_info": {
   "codemirror_mode": {
    "name": "ipython",
    "version": 3
   },
   "file_extension": ".py",
   "mimetype": "text/x-python",
   "name": "python",
   "nbconvert_exporter": "python",
   "pygments_lexer": "ipython3",
   "version": "3.10.12"
  }
 },
 "nbformat": 4,
 "nbformat_minor": 5
}
